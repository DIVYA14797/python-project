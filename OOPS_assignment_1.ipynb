{
  "nbformat": 4,
  "nbformat_minor": 0,
  "metadata": {
    "colab": {
      "provenance": [],
      "authorship_tag": "ABX9TyNb3Kb1nIuOMqNTj84NJiZt",
      "include_colab_link": true
    },
    "kernelspec": {
      "name": "python3",
      "display_name": "Python 3"
    },
    "language_info": {
      "name": "python"
    }
  },
  "cells": [
    {
      "cell_type": "markdown",
      "metadata": {
        "id": "view-in-github",
        "colab_type": "text"
      },
      "source": [
        "<a href=\"https://colab.research.google.com/github/DIVYA14797/python-project/blob/main/OOPS_assignment_1.ipynb\" target=\"_parent\"><img src=\"https://colab.research.google.com/assets/colab-badge.svg\" alt=\"Open In Colab\"/></a>"
      ]
    },
    {
      "cell_type": "code",
      "execution_count": null,
      "metadata": {
        "id": "HttlK5Fu5T4C"
      },
      "outputs": [],
      "source": []
    },
    {
      "cell_type": "markdown",
      "source": [
        "1. Explain class and object with respect to OOPS . Give suitable example ."
      ],
      "metadata": {
        "id": "eSlJ57dC61V3"
      }
    },
    {
      "cell_type": "markdown",
      "source": [
        "In object-oriented programming (OOP), a class is a blueprint for creating objects (instances). It defines the properties (attributes) and behaviors (methods) that objects of the class will have. An object, on the other hand, is an instance of a class. It represents a specific entity or concept and can interact with other objects and the system.\n",
        "\n",
        "example:"
      ],
      "metadata": {
        "id": "wMJAClk_66KC"
      }
    },
    {
      "cell_type": "code",
      "source": [
        "class Car:\n",
        "    def __init__(self, make, model, year):\n",
        "        self.make = make\n",
        "        self.model = model\n",
        "        self.year = year\n",
        "        self.speed = 0\n",
        "\n",
        "    def accelerate(self):\n",
        "        self.speed += 10\n",
        "\n",
        "    def brake(self):\n",
        "        if self.speed >= 10:\n",
        "            self.speed -= 10\n",
        "        else:\n",
        "            self.speed = 0\n",
        "\n",
        "    def get_speed(self):\n",
        "        return self.speed\n",
        "\n",
        "# Creating objects of the Car class\n",
        "car1 = Car(\"Toyota\", \"Corolla\", 2022)\n",
        "car2 = Car(\"Honda\", \"Civic\", 2021)\n",
        "\n",
        "# Accessing attributes and methods of objects\n",
        "print(\"Car 1:\", car1.make, car1.model, car1.year)\n",
        "print(\"Car 2:\", car2.make, car2.model, car2.year)\n",
        "\n",
        "car1.accelerate()\n",
        "car2.accelerate()\n",
        "\n",
        "print(\"Car 1 speed:\", car1.get_speed())\n",
        "print(\"Car 2 speed:\", car2.get_speed())\n",
        "\n",
        "car1.brake()\n",
        "car2.brake()\n",
        "\n",
        "print(\"Car 1 speed after braking:\", car1.get_speed())\n",
        "print(\"Car 2 speed after braking:\", car2.get_speed())"
      ],
      "metadata": {
        "colab": {
          "base_uri": "https://localhost:8080/"
        },
        "id": "2qVgUdJ67Ep1",
        "outputId": "16341c9c-7992-4a5a-c606-78f425c76931"
      },
      "execution_count": null,
      "outputs": [
        {
          "output_type": "stream",
          "name": "stdout",
          "text": [
            "Car 1: Toyota Corolla 2022\n",
            "Car 2: Honda Civic 2021\n",
            "Car 1 speed: 10\n",
            "Car 2 speed: 10\n",
            "Car 1 speed after braking: 0\n",
            "Car 2 speed after braking: 0\n"
          ]
        }
      ]
    },
    {
      "cell_type": "markdown",
      "source": [
        "In summary, a class defines the structure and behavior of objects, while an object is an instance of a class with its own unique state and behavior. Objects provide a way to represent and interact with real-world entities in a program."
      ],
      "metadata": {
        "id": "5dfCE5h_7Znx"
      }
    },
    {
      "cell_type": "code",
      "source": [],
      "metadata": {
        "id": "LaPqkWSA7bqG"
      },
      "execution_count": null,
      "outputs": []
    },
    {
      "cell_type": "markdown",
      "source": [
        "2. Name the four pillars of OOPs ."
      ],
      "metadata": {
        "id": "VpEA1fQE7dJ-"
      }
    },
    {
      "cell_type": "markdown",
      "source": [
        "The four pillars of object-oriented programming (OOP) are:\n",
        "\n",
        "1. Encapsulation: Encapsulation refers to the bundling of data (attributes) and methods (functions) that operate on the data into a single unit called a class. It allows for the hiding of implementation details and the protection of data from unauthorized access. Encapsulation helps in achieving data abstraction and modularity.\n",
        "\n",
        "2. Inheritance: Inheritance is a mechanism by which a class can inherit properties and behaviors (attributes and methods) from another class called the base class or parent class. The class that inherits from the base class is called the derived class or child class. Inheritance promotes code reusability and establishes a hierarchical relationship between classes.\n",
        "\n",
        "3. Polymorphism: Polymorphism allows objects of different classes to be treated as objects of a common base class. It enables a single interface to represent multiple types of objects. Polymorphism can be achieved through method overloading (same method name with different parameters) and method overriding (redefining a method in a derived class).\n",
        "\n",
        "4. Abstraction: Abstraction is the process of representing essential features of an entity while hiding the irrelevant details. It involves defining a simplified interface for interacting with objects, focusing on what an object does rather than how it does it. Abstraction allows for the creation of complex systems by breaking them down into manageable components with well-defined interfaces.\n",
        "\n",
        "These four pillars together form the foundation of object-oriented programming paradigms and help in designing modular, maintainable, and scalable software systems."
      ],
      "metadata": {
        "id": "D5dgH9xw7j_4"
      }
    },
    {
      "cell_type": "code",
      "source": [],
      "metadata": {
        "id": "6RF72YwF8AKS"
      },
      "execution_count": null,
      "outputs": []
    },
    {
      "cell_type": "markdown",
      "source": [
        "3. Explain why the __init__() function is used . Give a suitable example ."
      ],
      "metadata": {
        "id": "Iu8zx5mp8Aon"
      }
    },
    {
      "cell_type": "markdown",
      "source": [
        "\n",
        "The __init__() function in Python is a special method, also known as a constructor, which is automatically called when a new instance of a class is created. It is used to initialize the object's attributes or perform any necessary setup actions when the object is instantiated.\n",
        "\n",
        "Here are a few reasons why the __init__() function is used:\n",
        "\n",
        "1. Initializing Attributes: The primary purpose of the __init__() function is to initialize the attributes of an object with initial values. This ensures that the object starts with the desired state.\n",
        "\n",
        "2. Setting Default Values: It allows you to set default values for attributes if no values are provided during object creation. This helps in ensuring that objects have consistent initial states.\n",
        "\n",
        "3. Performing Setup Actions: Sometimes, you may need to perform certain setup actions or computations when an object is created. The __init__() function provides a convenient place to perform such actions.\n",
        "\n",
        "4. Ensuring Proper Initialization: By defining an __init__() method, you ensure that objects are properly initialized before they are used. This helps in preventing runtime errors due to uninitialized attributes.\n",
        "\n",
        "Here's an example to illustrate the usage of the __init__() function:"
      ],
      "metadata": {
        "id": "QQmiw3HB8JhW"
      }
    },
    {
      "cell_type": "code",
      "source": [
        "class Car:\n",
        "    def __init__(self, make, model, year):\n",
        "        self.make = make\n",
        "        self.model = model\n",
        "        self.year = year\n",
        "        self.speed = 0  # Initializing speed attribute with default value\n",
        "\n",
        "    def accelerate(self):\n",
        "        self.speed += 10\n",
        "\n",
        "    def brake(self):\n",
        "        if self.speed >= 10:\n",
        "            self.speed -= 10\n",
        "        else:\n",
        "            self.speed = 0\n",
        "\n",
        "    def get_speed(self):\n",
        "        return self.speed\n",
        "\n",
        "# Creating objects of the Car class\n",
        "car1 = Car(\"Toyota\", \"Corolla\", 2022)\n",
        "car2 = Car(\"Honda\", \"Civic\", 2021)\n",
        "\n",
        "# Accessing attributes of objects\n",
        "print(\"Car 1:\", car1.make, car1.model, car1.year)\n",
        "print(\"Car 2:\", car2.make, car2.model, car2.year)\n",
        "\n",
        "# Using methods of objects\n",
        "car1.accelerate()\n",
        "car2.accelerate()\n",
        "\n",
        "print(\"Car 1 speed:\", car1.get_speed())\n",
        "print(\"Car 2 speed:\", car2.get_speed())\n",
        "\n",
        "car1.brake()\n",
        "car2.brake()\n",
        "\n",
        "print(\"Car 1 speed after braking:\", car1.get_speed())\n",
        "print(\"Car 2 speed after braking:\", car2.get_speed())"
      ],
      "metadata": {
        "colab": {
          "base_uri": "https://localhost:8080/"
        },
        "id": "g8bCLQq58YwL",
        "outputId": "429e0d8e-6b02-45f0-84ee-9b033cd6b028"
      },
      "execution_count": null,
      "outputs": [
        {
          "output_type": "stream",
          "name": "stdout",
          "text": [
            "Car 1: Toyota Corolla 2022\n",
            "Car 2: Honda Civic 2021\n",
            "Car 1 speed: 10\n",
            "Car 2 speed: 10\n",
            "Car 1 speed after braking: 0\n",
            "Car 2 speed after braking: 0\n"
          ]
        }
      ]
    },
    {
      "cell_type": "code",
      "source": [],
      "metadata": {
        "id": "hShc8ico9Emf"
      },
      "execution_count": null,
      "outputs": []
    },
    {
      "cell_type": "markdown",
      "source": [
        "4. Why self is used in OOPs ?"
      ],
      "metadata": {
        "id": "4EDug64S9GBq"
      }
    },
    {
      "cell_type": "markdown",
      "source": [
        "In object-oriented programming (OOP), self is a convention used to refer to the instance of the class within the class itself. It is a reference to the current instance of the class and is passed as the first parameter to instance methods in Python.\n",
        "\n",
        "The use of self is important for several reasons:\n",
        "\n",
        "1. Accessing Instance Variables: Within instance methods, self is used to access instance variables (attributes) of the object. It allows methods to read and modify the state of the object.\n",
        "\n",
        "2. Invoking Other Methods: self is used to invoke other methods of the class within instance methods. It ensures that the correct instance of the method is called.\n",
        "\n",
        "3. Creating Instance Variables: self is used to create and initialize instance variables in the __init__() method or any other instance method.\n",
        "\n",
        "4. Distinguishing Instance Attributes from Local Variables: Using self explicitly distinguishes instance attributes from local variables or parameters within methods. It helps in avoiding naming conflicts and makes the code more readable.\n",
        "\n",
        "5. Supporting Method Chaining: self allows method chaining, where multiple methods can be called sequentially on the same object. Each method returns self, allowing subsequent methods to be called on the result.\n",
        "\n",
        "Here's a simple example to illustrate the use of 'self':"
      ],
      "metadata": {
        "id": "gPtCuiix9Lrh"
      }
    },
    {
      "cell_type": "code",
      "source": [
        "class MyClass:\n",
        "    def __init__(self, x):\n",
        "        self.x = x  # Initialize instance variable\n",
        "\n",
        "    def display(self):\n",
        "        print(\"Value of x:\", self.x)\n",
        "\n",
        "    def increment(self):\n",
        "        self.x += 1  # Modify instance variable\n",
        "\n",
        "# Creating an object of MyClass\n",
        "obj = MyClass(5)\n",
        "\n",
        "# Calling methods on the object\n",
        "obj.display()    # Output: Value of x: 5\n",
        "obj.increment()\n",
        "obj.display()    # Output: Value of x: 6"
      ],
      "metadata": {
        "colab": {
          "base_uri": "https://localhost:8080/"
        },
        "id": "_EPiVE-1920c",
        "outputId": "deb26a0c-aa24-403f-e30a-d5da3fa90d1e"
      },
      "execution_count": null,
      "outputs": [
        {
          "output_type": "stream",
          "name": "stdout",
          "text": [
            "Value of x: 5\n",
            "Value of x: 6\n"
          ]
        }
      ]
    },
    {
      "cell_type": "code",
      "source": [],
      "metadata": {
        "id": "dS72m2Xq99FG"
      },
      "execution_count": null,
      "outputs": []
    },
    {
      "cell_type": "markdown",
      "source": [
        "5. What is inheritance ? Give an example for each type of inheritance ."
      ],
      "metadata": {
        "id": "rcLEYcgc99hi"
      }
    },
    {
      "cell_type": "markdown",
      "source": [
        "Inheritance is a fundamental concept in object-oriented programming (OOP) where a new class, called a derived class or subclass, is created from an existing class, called a base class or superclass. The derived class inherits the attributes and methods of the base class, allowing for code reuse and promoting hierarchical relationships between classes.\n",
        "\n",
        "There are several types of inheritance in OOP:\n",
        "\n",
        "1. Single Inheritance: In single inheritance, a derived class inherits from only one base class.\n",
        "\n",
        "Example:"
      ],
      "metadata": {
        "id": "Z7uQgIdU-Elx"
      }
    },
    {
      "cell_type": "code",
      "source": [
        "class Animal:\n",
        "    def speak(self):\n",
        "        print(\"Animal speaks\")\n",
        "\n",
        "class Dog(Animal):  # Dog inherits from Animal\n",
        "    def bark(self):\n",
        "        print(\"Dog barks\")\n",
        "\n",
        "# Example usage\n",
        "dog = Dog()\n",
        "dog.speak()  # Output: Animal speaks\n",
        "dog.bark()   # Output: Dog barks"
      ],
      "metadata": {
        "colab": {
          "base_uri": "https://localhost:8080/"
        },
        "id": "mwKSTcDy-ROs",
        "outputId": "fbba2f51-13e9-4508-923b-aade56444aa5"
      },
      "execution_count": null,
      "outputs": [
        {
          "output_type": "stream",
          "name": "stdout",
          "text": [
            "Animal speaks\n",
            "Dog barks\n"
          ]
        }
      ]
    },
    {
      "cell_type": "markdown",
      "source": [
        "2. Multiple Inheritance: In multiple inheritance, a derived class inherits from more than one base class.\n",
        "\n",
        "Example:"
      ],
      "metadata": {
        "id": "fWGvm-Od-ZBD"
      }
    },
    {
      "cell_type": "code",
      "source": [
        "class A:\n",
        "    def method_a(self):\n",
        "        print(\"Method A\")\n",
        "\n",
        "class B:\n",
        "    def method_b(self):\n",
        "        print(\"Method B\")\n",
        "\n",
        "class C(A, B):  # C inherits from both A and B\n",
        "    def method_c(self):\n",
        "        print(\"Method C\")\n",
        "\n",
        "# Example usage\n",
        "obj_c = C()\n",
        "obj_c.method_a()  # Output: Method A\n",
        "obj_c.method_b()  # Output: Method B\n",
        "obj_c.method_c()  # Output: Method C"
      ],
      "metadata": {
        "colab": {
          "base_uri": "https://localhost:8080/"
        },
        "id": "uoGV72lE-hx9",
        "outputId": "48ac6d02-414d-4c02-92de-4461b1114e2d"
      },
      "execution_count": null,
      "outputs": [
        {
          "output_type": "stream",
          "name": "stdout",
          "text": [
            "Method A\n",
            "Method B\n",
            "Method C\n"
          ]
        }
      ]
    },
    {
      "cell_type": "markdown",
      "source": [
        "3. Multilevel Inheritance: In multilevel inheritance, a derived class inherits from another derived class, forming a hierarchy of classes.\n",
        "\n",
        "Example:"
      ],
      "metadata": {
        "id": "eyELMq9T-rzn"
      }
    },
    {
      "cell_type": "code",
      "source": [
        "class A:\n",
        "    def method_a(self):\n",
        "        print(\"Method A\")\n",
        "\n",
        "class B(A):\n",
        "    def method_b(self):\n",
        "        print(\"Method B\")\n",
        "\n",
        "class C(B):  # C inherits from B, which inherits from A\n",
        "    def method_c(self):\n",
        "        print(\"Method C\")\n",
        "\n",
        "# Example usage\n",
        "obj_c = C()\n",
        "obj_c.method_a()  # Output: Method A\n",
        "obj_c.method_b()  # Output: Method B\n",
        "obj_c.method_c()  # Output: Method C"
      ],
      "metadata": {
        "colab": {
          "base_uri": "https://localhost:8080/"
        },
        "id": "8Tgnyr-7-4fJ",
        "outputId": "dc17fe81-ffd4-45bb-b9bd-46d4e6620911"
      },
      "execution_count": null,
      "outputs": [
        {
          "output_type": "stream",
          "name": "stdout",
          "text": [
            "Method A\n",
            "Method B\n",
            "Method C\n"
          ]
        }
      ]
    },
    {
      "cell_type": "markdown",
      "source": [
        "4. Hierarchical Inheritance: In hierarchical inheritance, multiple derived classes inherit from a single base class.\n",
        "\n",
        "Example:"
      ],
      "metadata": {
        "id": "qQ2IjiqM_EcD"
      }
    },
    {
      "cell_type": "code",
      "source": [
        "class Animal:\n",
        "    def speak(self):\n",
        "        print(\"Animal speaks\")\n",
        "\n",
        "class Dog(Animal):  # Dog inherits from Animal\n",
        "    def bark(self):\n",
        "        print(\"Dog barks\")\n",
        "\n",
        "class Cat(Animal):  # Cat inherits from Animal\n",
        "    def meow(self):\n",
        "        print(\"Cat meows\")\n",
        "\n",
        "# Example usage\n",
        "dog = Dog()\n",
        "cat = Cat()\n",
        "dog.speak()  # Output: Animal speaks\n",
        "dog.bark()   # Output: Dog barks\n",
        "cat.speak()  # Output: Animal speaks\n",
        "cat.meow()   # Output: Cat meows"
      ],
      "metadata": {
        "colab": {
          "base_uri": "https://localhost:8080/"
        },
        "id": "K8DXSLv0_MC5",
        "outputId": "564a3bd3-fb35-48ec-ab9a-3f6a49b894ef"
      },
      "execution_count": null,
      "outputs": [
        {
          "output_type": "stream",
          "name": "stdout",
          "text": [
            "Animal speaks\n",
            "Dog barks\n",
            "Animal speaks\n",
            "Cat meows\n"
          ]
        }
      ]
    },
    {
      "cell_type": "markdown",
      "source": [
        "These examples demonstrate different types of inheritance in Python and how classes can be organized into hierarchies to promote code reuse and maintainability.\n",
        "\n",
        "\n",
        "\n",
        "\n",
        "\n",
        "\n"
      ],
      "metadata": {
        "id": "D9LcoHoZ_Z3G"
      }
    },
    {
      "cell_type": "code",
      "source": [],
      "metadata": {
        "id": "zrIEQJRB_bew"
      },
      "execution_count": null,
      "outputs": []
    }
  ]
}