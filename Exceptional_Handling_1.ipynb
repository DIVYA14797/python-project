{
  "nbformat": 4,
  "nbformat_minor": 0,
  "metadata": {
    "colab": {
      "provenance": [],
      "authorship_tag": "ABX9TyP+3MaxBFJhEh8JVls8eLyT",
      "include_colab_link": true
    },
    "kernelspec": {
      "name": "python3",
      "display_name": "Python 3"
    },
    "language_info": {
      "name": "python"
    }
  },
  "cells": [
    {
      "cell_type": "markdown",
      "metadata": {
        "id": "view-in-github",
        "colab_type": "text"
      },
      "source": [
        "<a href=\"https://colab.research.google.com/github/DIVYA14797/python-project/blob/main/Exceptional_Handling_1.ipynb\" target=\"_parent\"><img src=\"https://colab.research.google.com/assets/colab-badge.svg\" alt=\"Open In Colab\"/></a>"
      ]
    },
    {
      "cell_type": "code",
      "execution_count": null,
      "metadata": {
        "id": "XvogBOcKtsps"
      },
      "outputs": [],
      "source": []
    },
    {
      "cell_type": "markdown",
      "source": [
        "1. What is an exception in Python ? Write the difference between Exception and Syntax Error .\n",
        "\n"
      ],
      "metadata": {
        "id": "1Ze8CAJ_tvPw"
      }
    },
    {
      "cell_type": "markdown",
      "source": [
        "In Python, an exception is an event that occurs during the execution of a program that disrupts the normal flow of instructions. When an exception occurs, the Python interpreter raises an exception object. This object contains information about the error, including its type and the location within the program where the error occurred. Exceptions can be caused by various factors such as invalid user input, file not found, division by zero, etc. Handling exceptions allows programs to gracefully recover from errors and continue execution.\n",
        "\n",
        "A syntax error, on the other hand, is a type of error that occurs when the Python interpreter encounters code that violates the language syntax rules. Syntax errors are typically detected by the interpreter during the parsing of the code, before the program is executed. Common examples of syntax errors include misspelled keywords, missing punctuation, incorrect indentation, etc.\n",
        "\n",
        "Here's a summary of the key differences between exceptions and syntax errors:\n",
        "\n",
        "1. Cause:\n",
        "\n",
        "* Exceptions are caused by runtime errors during the execution of the program.\n",
        "* Syntax errors are caused by violations of the Python syntax rules and are detected during the parsing of the code.\n",
        "\n",
        "2. Timing of Detection:\n",
        "\n",
        "* Exceptions are detected during runtime when the code is being executed.\n",
        "* Syntax errors are detected during the parsing of the code, before the program is executed.\n",
        "\n",
        "3. Handling:\n",
        "\n",
        "* Exceptions can be handled using try-except blocks, allowing the program to recover from errors gracefully.\n",
        "* Syntax errors need to be fixed in the code before the program can be executed.\n",
        "\n",
        "4. Examples:\n",
        "\n",
        "* Examples of exceptions include ZeroDivisionError, FileNotFoundError, TypeError, etc.\n",
        "* Examples of syntax errors include invalid indentation, misspelled keywords, missing punctuation, etc."
      ],
      "metadata": {
        "id": "LMmy4_mGt1TM"
      }
    },
    {
      "cell_type": "code",
      "source": [],
      "metadata": {
        "id": "lPhd9K76uPxe"
      },
      "execution_count": null,
      "outputs": []
    },
    {
      "cell_type": "markdown",
      "source": [
        "2. What happen when an exception is not handled ? Explain with an example."
      ],
      "metadata": {
        "id": "_gV8zIgfuQUv"
      }
    },
    {
      "cell_type": "markdown",
      "source": [
        "When an exception is not handled in a Python program, it leads to an abnormal termination of the program. When an unhandled exception occurs, Python prints a traceback to the console, which includes information about the exception type, the line of code where the exception occurred, and the call stack leading up to the error. After printing the traceback, the program stops execution.\n",
        "\n",
        "Here's an example to illustrate what happens when an exception is not handled:"
      ],
      "metadata": {
        "id": "OikE4KeiuWwp"
      }
    },
    {
      "cell_type": "code",
      "source": [
        "def divide(x, y):\n",
        "    result = x / y\n",
        "    return result\n",
        "\n",
        "# Attempt to divide by zero, which raises a ZeroDivisionError\n",
        "result = divide(10, 0)\n",
        "print(\"Result:\", result)  # This line will not be executed because an exception occurs before it"
      ],
      "metadata": {
        "colab": {
          "base_uri": "https://localhost:8080/",
          "height": 327
        },
        "id": "Fs_64-mruc6h",
        "outputId": "3d08cfda-d756-490e-cb61-c5ee79d4fefc"
      },
      "execution_count": null,
      "outputs": [
        {
          "output_type": "error",
          "ename": "ZeroDivisionError",
          "evalue": "division by zero",
          "traceback": [
            "\u001b[0;31m---------------------------------------------------------------------------\u001b[0m",
            "\u001b[0;31mZeroDivisionError\u001b[0m                         Traceback (most recent call last)",
            "\u001b[0;32m<ipython-input-1-10f95fbde0bb>\u001b[0m in \u001b[0;36m<cell line: 6>\u001b[0;34m()\u001b[0m\n\u001b[1;32m      4\u001b[0m \u001b[0;34m\u001b[0m\u001b[0m\n\u001b[1;32m      5\u001b[0m \u001b[0;31m# Attempt to divide by zero, which raises a ZeroDivisionError\u001b[0m\u001b[0;34m\u001b[0m\u001b[0;34m\u001b[0m\u001b[0m\n\u001b[0;32m----> 6\u001b[0;31m \u001b[0mresult\u001b[0m \u001b[0;34m=\u001b[0m \u001b[0mdivide\u001b[0m\u001b[0;34m(\u001b[0m\u001b[0;36m10\u001b[0m\u001b[0;34m,\u001b[0m \u001b[0;36m0\u001b[0m\u001b[0;34m)\u001b[0m\u001b[0;34m\u001b[0m\u001b[0;34m\u001b[0m\u001b[0m\n\u001b[0m\u001b[1;32m      7\u001b[0m \u001b[0mprint\u001b[0m\u001b[0;34m(\u001b[0m\u001b[0;34m\"Result:\"\u001b[0m\u001b[0;34m,\u001b[0m \u001b[0mresult\u001b[0m\u001b[0;34m)\u001b[0m  \u001b[0;31m# This line will not be executed because an exception occurs before it\u001b[0m\u001b[0;34m\u001b[0m\u001b[0;34m\u001b[0m\u001b[0m\n",
            "\u001b[0;32m<ipython-input-1-10f95fbde0bb>\u001b[0m in \u001b[0;36mdivide\u001b[0;34m(x, y)\u001b[0m\n\u001b[1;32m      1\u001b[0m \u001b[0;32mdef\u001b[0m \u001b[0mdivide\u001b[0m\u001b[0;34m(\u001b[0m\u001b[0mx\u001b[0m\u001b[0;34m,\u001b[0m \u001b[0my\u001b[0m\u001b[0;34m)\u001b[0m\u001b[0;34m:\u001b[0m\u001b[0;34m\u001b[0m\u001b[0;34m\u001b[0m\u001b[0m\n\u001b[0;32m----> 2\u001b[0;31m     \u001b[0mresult\u001b[0m \u001b[0;34m=\u001b[0m \u001b[0mx\u001b[0m \u001b[0;34m/\u001b[0m \u001b[0my\u001b[0m\u001b[0;34m\u001b[0m\u001b[0;34m\u001b[0m\u001b[0m\n\u001b[0m\u001b[1;32m      3\u001b[0m     \u001b[0;32mreturn\u001b[0m \u001b[0mresult\u001b[0m\u001b[0;34m\u001b[0m\u001b[0;34m\u001b[0m\u001b[0m\n\u001b[1;32m      4\u001b[0m \u001b[0;34m\u001b[0m\u001b[0m\n\u001b[1;32m      5\u001b[0m \u001b[0;31m# Attempt to divide by zero, which raises a ZeroDivisionError\u001b[0m\u001b[0;34m\u001b[0m\u001b[0;34m\u001b[0m\u001b[0m\n",
            "\u001b[0;31mZeroDivisionError\u001b[0m: division by zero"
          ]
        }
      ]
    },
    {
      "cell_type": "markdown",
      "source": [
        "In this example, the divide function attempts to perform a division operation between two numbers x and y. However, when y is equal to zero, a ZeroDivisionError is raised because division by zero is not allowed in Python."
      ],
      "metadata": {
        "id": "HnSnqh-Mu0L1"
      }
    },
    {
      "cell_type": "code",
      "source": [],
      "metadata": {
        "id": "JEBkHLvFu3WW"
      },
      "execution_count": null,
      "outputs": []
    },
    {
      "cell_type": "markdown",
      "source": [
        "3. Which python statements are used to catch and handle exceptions ? Explain with an example .\n",
        "\n"
      ],
      "metadata": {
        "id": "U4EZKJGMu3qm"
      }
    },
    {
      "cell_type": "markdown",
      "source": [
        "In Python, the 'try' and 'except' statements are used to catch and handle exceptions. The general syntax of a try-except block is as follows:"
      ],
      "metadata": {
        "id": "u0eqMNkeu-vm"
      }
    },
    {
      "cell_type": "code",
      "source": [
        "try:\n",
        "    # Code that may raise an exception\n",
        "    # ...\n",
        "except ExceptionType:\n",
        "    # Code to handle the exception\n",
        "    # ..."
      ],
      "metadata": {
        "id": "Hnummk4-vKbp"
      },
      "execution_count": null,
      "outputs": []
    },
    {
      "cell_type": "markdown",
      "source": [
        "Here's an example demonstrating the use of try-except blocks to handle exceptions:"
      ],
      "metadata": {
        "id": "fjS5smTGvOVp"
      }
    },
    {
      "cell_type": "code",
      "source": [
        "def divide(x, y):\n",
        "    try:\n",
        "        result = x / y\n",
        "        print(\"Result:\", result)\n",
        "    except ZeroDivisionError:\n",
        "        print(\"Error: Division by zero is not allowed.\")\n",
        "\n",
        "# Example 1: Division by zero\n",
        "divide(10, 0)\n",
        "\n",
        "# Example 2: Division of two numbers\n",
        "divide(10, 2)"
      ],
      "metadata": {
        "colab": {
          "base_uri": "https://localhost:8080/"
        },
        "id": "uprCBacSvW2o",
        "outputId": "8610cd64-3f68-44b9-e8aa-80193b9cf415"
      },
      "execution_count": null,
      "outputs": [
        {
          "output_type": "stream",
          "name": "stdout",
          "text": [
            "Error: Division by zero is not allowed.\n",
            "Result: 5.0\n"
          ]
        }
      ]
    },
    {
      "cell_type": "code",
      "source": [],
      "metadata": {
        "id": "Wiv3aADlvZHT"
      },
      "execution_count": null,
      "outputs": []
    },
    {
      "cell_type": "markdown",
      "source": [
        "4. Explain with an example  : a) try and else  ,  b) finally   , c)  raise"
      ],
      "metadata": {
        "id": "kcDQ23aBvZiW"
      }
    },
    {
      "cell_type": "markdown",
      "source": [
        "a) Try, Else:\n",
        "The else block in Python's try-except-else structure executes code that should run if no exceptions occur within the try block. It's useful for code that should only run when there are no exceptions. Here's an example:\n"
      ],
      "metadata": {
        "id": "x0iaDYB-vhpq"
      }
    },
    {
      "cell_type": "code",
      "source": [
        "def divide(x, y):\n",
        "    try:\n",
        "        result = x / y\n",
        "    except ZeroDivisionError:\n",
        "        print(\"Error: Division by zero is not allowed.\")\n",
        "    else:\n",
        "        print(\"Division successful. Result:\", result)\n",
        "\n",
        "# Example 1: Division by zero\n",
        "divide(10, 0)\n",
        "\n",
        "# Example 2: Division of two numbers\n",
        "divide(10, 2)"
      ],
      "metadata": {
        "colab": {
          "base_uri": "https://localhost:8080/"
        },
        "id": "1ZO3CN5zvql8",
        "outputId": "fffffbda-22df-4dc8-cba3-73d3bbbb893f"
      },
      "execution_count": null,
      "outputs": [
        {
          "output_type": "stream",
          "name": "stdout",
          "text": [
            "Error: Division by zero is not allowed.\n",
            "Division successful. Result: 5.0\n"
          ]
        }
      ]
    },
    {
      "cell_type": "markdown",
      "source": [
        "b) Finally:\n",
        "The finally block is used to execute code regardless of whether an exception occurred or not. It's commonly used to release external resources like files or network connections. Here's an example:"
      ],
      "metadata": {
        "id": "qDYHhZKbvswG"
      }
    },
    {
      "cell_type": "code",
      "source": [
        "try:\n",
        "    file = open(\"example.txt\", \"r\")\n",
        "    content = file.read()\n",
        "    print(content)\n",
        "except FileNotFoundError:\n",
        "    print(\"Error: File not found.\")\n",
        "finally:\n",
        "    file.close()  # Close the file regardless of whether an exception occurred"
      ],
      "metadata": {
        "colab": {
          "base_uri": "https://localhost:8080/",
          "height": 200
        },
        "id": "q9jWa3rBvyAt",
        "outputId": "01159d2c-ed5a-4eeb-da88-114b2bf40d44"
      },
      "execution_count": null,
      "outputs": [
        {
          "output_type": "stream",
          "name": "stdout",
          "text": [
            "Error: File not found.\n"
          ]
        },
        {
          "output_type": "error",
          "ename": "NameError",
          "evalue": "name 'file' is not defined",
          "traceback": [
            "\u001b[0;31m---------------------------------------------------------------------------\u001b[0m",
            "\u001b[0;31mNameError\u001b[0m                                 Traceback (most recent call last)",
            "\u001b[0;32m<ipython-input-4-378a8fc92369>\u001b[0m in \u001b[0;36m<cell line: 1>\u001b[0;34m()\u001b[0m\n\u001b[1;32m      6\u001b[0m     \u001b[0mprint\u001b[0m\u001b[0;34m(\u001b[0m\u001b[0;34m\"Error: File not found.\"\u001b[0m\u001b[0;34m)\u001b[0m\u001b[0;34m\u001b[0m\u001b[0;34m\u001b[0m\u001b[0m\n\u001b[1;32m      7\u001b[0m \u001b[0;32mfinally\u001b[0m\u001b[0;34m:\u001b[0m\u001b[0;34m\u001b[0m\u001b[0;34m\u001b[0m\u001b[0m\n\u001b[0;32m----> 8\u001b[0;31m     \u001b[0mfile\u001b[0m\u001b[0;34m.\u001b[0m\u001b[0mclose\u001b[0m\u001b[0;34m(\u001b[0m\u001b[0;34m)\u001b[0m  \u001b[0;31m# Close the file regardless of whether an exception occurred\u001b[0m\u001b[0;34m\u001b[0m\u001b[0;34m\u001b[0m\u001b[0m\n\u001b[0m",
            "\u001b[0;31mNameError\u001b[0m: name 'file' is not defined"
          ]
        }
      ]
    },
    {
      "cell_type": "markdown",
      "source": [
        "c) Raise:\n",
        "The raise statement in Python is used to explicitly raise an exception. You can raise built-in exceptions or create your own custom exceptions. Here's an example:"
      ],
      "metadata": {
        "id": "eXbml-OOv9YN"
      }
    },
    {
      "cell_type": "code",
      "source": [
        "def greet(name):\n",
        "    if not name:\n",
        "        raise ValueError(\"Name cannot be empty\")\n",
        "    print(\"Hello,\", name)\n",
        "\n",
        "try:\n",
        "    greet(\"\")\n",
        "except ValueError as e:\n",
        "    print(e)"
      ],
      "metadata": {
        "colab": {
          "base_uri": "https://localhost:8080/"
        },
        "id": "Pl3oES35v-4F",
        "outputId": "b2495066-df81-46e9-a0f8-c225c7a08939"
      },
      "execution_count": null,
      "outputs": [
        {
          "output_type": "stream",
          "name": "stdout",
          "text": [
            "Name cannot be empty\n"
          ]
        }
      ]
    },
    {
      "cell_type": "code",
      "source": [],
      "metadata": {
        "id": "rEvKc_HhwJe-"
      },
      "execution_count": null,
      "outputs": []
    },
    {
      "cell_type": "markdown",
      "source": [
        "5. What are custom exception in python ? Why do we need custom exceptions ? Explain wiyh an example ."
      ],
      "metadata": {
        "id": "byjGJhfdwMEG"
      }
    },
    {
      "cell_type": "markdown",
      "source": [
        "Custom exceptions in Python are user-defined exceptions that are created by subclassing Python's built-in Exception class or any of its subclasses. By defining custom exceptions, you can create a specific category of errors that are meaningful to your application or library.\n",
        "\n",
        "We need custom exceptions for several reasons:\n",
        "\n",
        "1. Semantic Clarity: Custom exceptions can provide more descriptive and meaningful error messages, making it easier to understand and debug problems in the code.\n",
        "\n",
        "2. Modularity and Reusability: Custom exceptions allow you to modularize error handling logic and reuse it across multiple parts of your codebase. This can lead to cleaner and more maintainable code.\n",
        "\n",
        "3. Categorization: Custom exceptions help categorize errors based on their nature or origin, allowing for finer-grained error handling strategies.\n",
        "\n",
        "4. Encapsulation: Custom exceptions encapsulate error-handling logic, separating it from the rest of the code and promoting better separation of concerns.\n",
        "\n",
        "Here's an example illustrating the use of custom exceptions:"
      ],
      "metadata": {
        "id": "5hiaHRej3_m8"
      }
    },
    {
      "cell_type": "code",
      "source": [
        "class WithdrawalError(Exception):\n",
        "    \"\"\"Exception raised for errors during a withdrawal operation.\"\"\"\n",
        "\n",
        "    def __init__(self, balance, amount):\n",
        "        self.balance = balance\n",
        "        self.amount = amount\n",
        "        super().__init__(f\"Insufficient balance ({balance}) for withdrawal of {amount}\")\n",
        "\n",
        "class Account:\n",
        "    def __init__(self, balance):\n",
        "        self.balance = balance\n",
        "\n",
        "    def withdraw(self, amount):\n",
        "        if amount > self.balance:\n",
        "            raise WithdrawalError(self.balance, amount)\n",
        "        else:\n",
        "            self.balance -= amount\n",
        "            print(f\"Withdrawal successful. Remaining balance: {self.balance}\")\n",
        "\n",
        "# Example usage:\n",
        "try:\n",
        "    account = Account(100)\n",
        "    account.withdraw(150)\n",
        "except WithdrawalError as e:\n",
        "    print(\"Withdrawal Error:\",e)"
      ],
      "metadata": {
        "colab": {
          "base_uri": "https://localhost:8080/"
        },
        "id": "u5LwUdlq4PZl",
        "outputId": "82609c45-3763-4c27-9c1b-f521a9c82b7c"
      },
      "execution_count": null,
      "outputs": [
        {
          "output_type": "stream",
          "name": "stdout",
          "text": [
            "Withdrawal Error: Insufficient balance (100) for withdrawal of 150\n"
          ]
        }
      ]
    },
    {
      "cell_type": "code",
      "source": [],
      "metadata": {
        "id": "9sYXNPTL4lCl"
      },
      "execution_count": null,
      "outputs": []
    },
    {
      "cell_type": "markdown",
      "source": [
        "6. Create an custom exception class . Use this class to hand an exception ."
      ],
      "metadata": {
        "id": "0QTT15k44lhT"
      }
    },
    {
      "cell_type": "markdown",
      "source": [
        " An example where we create a custom exception class called CustomError and then use it to handle an exception:"
      ],
      "metadata": {
        "id": "UbPrj7124oWJ"
      }
    },
    {
      "cell_type": "code",
      "source": [
        "class CustomError(Exception):\n",
        "    \"\"\"Custom exception raised for specific scenario.\"\"\"\n",
        "\n",
        "    def __init__(self, message):\n",
        "        self.message = message\n",
        "        super().__init__(message)\n",
        "\n",
        "def process_data(data):\n",
        "    if not data:\n",
        "        raise CustomError(\"Data cannot be empty\")\n",
        "    # Process the data here\n",
        "    print(\"Data processing successful\")\n",
        "\n",
        "# Example usage:\n",
        "try:\n",
        "    data = []  # Empty data to trigger the exception\n",
        "    process_data(data)\n",
        "except CustomError as e:\n",
        "    print(\"Custom Error:\", e.message)"
      ],
      "metadata": {
        "colab": {
          "base_uri": "https://localhost:8080/"
        },
        "id": "liEbCZ8r4y7v",
        "outputId": "79e0ca30-f124-42b6-fde2-119ea51819c9"
      },
      "execution_count": null,
      "outputs": [
        {
          "output_type": "stream",
          "name": "stdout",
          "text": [
            "Custom Error: Data cannot be empty\n"
          ]
        }
      ]
    },
    {
      "cell_type": "code",
      "source": [],
      "metadata": {
        "id": "E01U-b_95BfT"
      },
      "execution_count": null,
      "outputs": []
    }
  ]
}