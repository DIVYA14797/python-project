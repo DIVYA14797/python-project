{
  "nbformat": 4,
  "nbformat_minor": 0,
  "metadata": {
    "colab": {
      "provenance": [],
      "authorship_tag": "ABX9TyOUd/2C+D9/y3HZSmtlzx/J",
      "include_colab_link": true
    },
    "kernelspec": {
      "name": "python3",
      "display_name": "Python 3"
    },
    "language_info": {
      "name": "python"
    }
  },
  "cells": [
    {
      "cell_type": "markdown",
      "metadata": {
        "id": "view-in-github",
        "colab_type": "text"
      },
      "source": [
        "<a href=\"https://colab.research.google.com/github/DIVYA14797/python-project/blob/main/python.ipynb\" target=\"_parent\"><img src=\"https://colab.research.google.com/assets/colab-badge.svg\" alt=\"Open In Colab\"/></a>"
      ]
    },
    {
      "cell_type": "code",
      "execution_count": null,
      "metadata": {
        "id": "ZZq6PM2zurwG"
      },
      "outputs": [],
      "source": []
    },
    {
      "cell_type": "markdown",
      "source": [
        "1. Create a python program to sort the given list to tuples based on integer value using a lambda function .\n",
        "\n",
        "     [('Sachin  Tendulkar' , 34357),('Ricky Ponting', 27483),('Jack Kallis',25534),('Virat Kohli',24936)]"
      ],
      "metadata": {
        "id": "ZnWDR9Ktuv6P"
      }
    },
    {
      "cell_type": "code",
      "source": [
        "data = [('Sachin Tendulkar', 34357), ('Ricky Ponting', 27483), ('Jack Kallis', 25534), ('Virat Kohli', 24936)]\n",
        "\n",
        "sorted_data = sorted(data, key=lambda x: x[1])\n",
        "\n",
        "print(\"Sorted list of tuples based on integer value:\")\n",
        "for item in sorted_data:\n",
        "    print(item)"
      ],
      "metadata": {
        "colab": {
          "base_uri": "https://localhost:8080/"
        },
        "id": "RRGGxg59u60X",
        "outputId": "38ec6b81-51c5-4585-88e2-678a77845dcb"
      },
      "execution_count": null,
      "outputs": [
        {
          "output_type": "stream",
          "name": "stdout",
          "text": [
            "Sorted list of tuples based on integer value:\n",
            "('Virat Kohli', 24936)\n",
            "('Jack Kallis', 25534)\n",
            "('Ricky Ponting', 27483)\n",
            "('Sachin Tendulkar', 34357)\n"
          ]
        }
      ]
    },
    {
      "cell_type": "code",
      "source": [],
      "metadata": {
        "id": "5hp5PaVhvAqg"
      },
      "execution_count": null,
      "outputs": []
    },
    {
      "cell_type": "markdown",
      "source": [
        "2. Write a python program to find the squares of all the numbers in the given list of integers using lambda and map functions.\n",
        "\n",
        "   [1,2,3,4,5,6,7,8,9,10]\n",
        "\n"
      ],
      "metadata": {
        "id": "ucaw2tLqvBOJ"
      }
    },
    {
      "cell_type": "code",
      "source": [
        "numbers = [1, 2, 3, 4, 5, 6, 7, 8, 9, 10]\n",
        "\n",
        "squares = list(map(lambda x: x**2, numbers))\n",
        "\n",
        "print(\"Original list of numbers:\", numbers)\n",
        "print(\"Squares of the numbers:\", squares)"
      ],
      "metadata": {
        "colab": {
          "base_uri": "https://localhost:8080/"
        },
        "id": "oz_1fUn8vOVl",
        "outputId": "9bf7b80d-b114-48af-edea-5116ef35c5ec"
      },
      "execution_count": null,
      "outputs": [
        {
          "output_type": "stream",
          "name": "stdout",
          "text": [
            "Original list of numbers: [1, 2, 3, 4, 5, 6, 7, 8, 9, 10]\n",
            "Squares of the numbers: [1, 4, 9, 16, 25, 36, 49, 64, 81, 100]\n"
          ]
        }
      ]
    },
    {
      "cell_type": "code",
      "source": [],
      "metadata": {
        "id": "xsivvSBbvVjp"
      },
      "execution_count": null,
      "outputs": []
    },
    {
      "cell_type": "markdown",
      "source": [
        "3. Write a python program to convert the given list of integers into a tuple of strings . Use map and lambda functions .       \n",
        "\n",
        "Given string : [1,2,3,4,5,6,7,8,9,10]             \n",
        "\n",
        "Expected output  : ('1','2','3','4','5','6','7','8','9','10')"
      ],
      "metadata": {
        "id": "81MwzVqivWNr"
      }
    },
    {
      "cell_type": "code",
      "source": [
        "numbers = [1, 2, 3, 4, 5, 6, 7, 8, 9, 10]\n",
        "\n",
        "string_tuple = tuple(map(lambda x: str(x), numbers))\n",
        "\n",
        "print(\"Given list of integers:\", numbers)\n",
        "print(\"Converted tuple of strings:\", string_tuple)"
      ],
      "metadata": {
        "colab": {
          "base_uri": "https://localhost:8080/"
        },
        "id": "wWUnkVvavtXZ",
        "outputId": "ecfa470c-48ac-4614-a0f7-570e8e4ec339"
      },
      "execution_count": null,
      "outputs": [
        {
          "output_type": "stream",
          "name": "stdout",
          "text": [
            "Given list of integers: [1, 2, 3, 4, 5, 6, 7, 8, 9, 10]\n",
            "Converted tuple of strings: ('1', '2', '3', '4', '5', '6', '7', '8', '9', '10')\n"
          ]
        }
      ]
    },
    {
      "cell_type": "code",
      "source": [],
      "metadata": {
        "id": "vOZm0Pb8vzrc"
      },
      "execution_count": null,
      "outputs": []
    },
    {
      "cell_type": "markdown",
      "source": [
        "4. Write a python program using reduce function to compute the product of a list containing numbers from 1 to 25 ."
      ],
      "metadata": {
        "id": "4QxZB7tDv0cd"
      }
    },
    {
      "cell_type": "code",
      "source": [
        "from functools import reduce\n",
        "\n",
        "# Define a function to compute the product of two numbers\n",
        "def multiply(x, y):\n",
        "    return x * y\n",
        "\n",
        "# Generate a list containing numbers from 1 to 25\n",
        "numbers = list(range(1, 26))\n",
        "\n",
        "# Use reduce to compute the product of the list\n",
        "product = reduce(multiply, numbers)\n",
        "\n",
        "print(\"Product of numbers from 1 to 25:\", product)"
      ],
      "metadata": {
        "colab": {
          "base_uri": "https://localhost:8080/"
        },
        "id": "9BWLkyFiv786",
        "outputId": "b8f20c86-dbc8-4293-b398-ece83f9dcaa4"
      },
      "execution_count": null,
      "outputs": [
        {
          "output_type": "stream",
          "name": "stdout",
          "text": [
            "Product of numbers from 1 to 25: 15511210043330985984000000\n"
          ]
        }
      ]
    },
    {
      "cell_type": "code",
      "source": [],
      "metadata": {
        "id": "HYZl_QN0wCtV"
      },
      "execution_count": null,
      "outputs": []
    },
    {
      "cell_type": "markdown",
      "source": [
        "5. Write a python program to filter the numbers in a given list that are divisible by 2 and 3 using the filter function .\n",
        "\n",
        "  [2,3,6,9,27,60,90,120,55,46]"
      ],
      "metadata": {
        "id": "fmdtcwlhwDGA"
      }
    },
    {
      "cell_type": "code",
      "source": [
        "numbers = [2, 3, 6, 9, 27, 60, 90, 120, 55, 46]\n",
        "\n",
        "divisible_by_2_and_3 = list(filter(lambda x: x % 2 == 0 and x % 3 == 0, numbers))\n",
        "\n",
        "print(\"Numbers divisible by 2 and 3:\", divisible_by_2_and_3)"
      ],
      "metadata": {
        "colab": {
          "base_uri": "https://localhost:8080/"
        },
        "id": "gLKrlIiFwLct",
        "outputId": "c8ca31c9-b6a4-41ae-a287-cae2c7f662f3"
      },
      "execution_count": null,
      "outputs": [
        {
          "output_type": "stream",
          "name": "stdout",
          "text": [
            "Numbers divisible by 2 and 3: [6, 60, 90, 120]\n"
          ]
        }
      ]
    },
    {
      "cell_type": "code",
      "source": [],
      "metadata": {
        "id": "b6paLcEKwRZL"
      },
      "execution_count": null,
      "outputs": []
    },
    {
      "cell_type": "markdown",
      "source": [
        "6. Write a python program to find palindromes in the given list of strings using lambda and filter function .  \n",
        "\n",
        " ['python' , 'php' , 'aba' , 'radar' , 'level']"
      ],
      "metadata": {
        "id": "hN147-THwR2H"
      }
    },
    {
      "cell_type": "code",
      "source": [
        "strings = ['python', 'php', 'aba', 'radar', 'level']\n",
        "\n",
        "palindromes = list(filter(lambda x: x == x[::-1], strings))\n",
        "\n",
        "print(\"Palindromes in the given list:\", palindromes)"
      ],
      "metadata": {
        "id": "ny3EOd1mwa3w",
        "outputId": "abc4996b-5fd5-42b2-a6c3-c8e87c493108",
        "colab": {
          "base_uri": "https://localhost:8080/"
        }
      },
      "execution_count": null,
      "outputs": [
        {
          "output_type": "stream",
          "name": "stdout",
          "text": [
            "Palindromes in the given list: ['php', 'aba', 'radar', 'level']\n"
          ]
        }
      ]
    },
    {
      "cell_type": "code",
      "source": [],
      "metadata": {
        "id": "bnkPoAa8wf9Q"
      },
      "execution_count": null,
      "outputs": []
    }
  ]
}