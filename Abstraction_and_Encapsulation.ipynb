{
  "nbformat": 4,
  "nbformat_minor": 0,
  "metadata": {
    "colab": {
      "provenance": [],
      "authorship_tag": "ABX9TyNKI3wdSsYBUe5PoqDJxV9s",
      "include_colab_link": true
    },
    "kernelspec": {
      "name": "python3",
      "display_name": "Python 3"
    },
    "language_info": {
      "name": "python"
    }
  },
  "cells": [
    {
      "cell_type": "markdown",
      "metadata": {
        "id": "view-in-github",
        "colab_type": "text"
      },
      "source": [
        "<a href=\"https://colab.research.google.com/github/DIVYA14797/python-project/blob/main/Abstraction_and_Encapsulation.ipynb\" target=\"_parent\"><img src=\"https://colab.research.google.com/assets/colab-badge.svg\" alt=\"Open In Colab\"/></a>"
      ]
    },
    {
      "cell_type": "code",
      "execution_count": null,
      "metadata": {
        "id": "jlpH1fohydx-"
      },
      "outputs": [],
      "source": []
    },
    {
      "cell_type": "markdown",
      "source": [
        "1. What is Abstraction in OOPs ? Explain with an example ."
      ],
      "metadata": {
        "id": "qnMtshPiyegf"
      }
    },
    {
      "cell_type": "markdown",
      "source": [
        "Abstraction in Object-Oriented Programming (OOP) is a concept that focuses on hiding the complex implementation details and showing only the necessary features of an object to the outside world. It allows programmers to create a simplified view of an object by emphasizing its essential characteristics while suppressing irrelevant details.\n",
        "\n",
        "In simpler terms, abstraction allows you to focus on what an object does rather than how it achieves it.\n",
        "\n",
        "Example:\n",
        "\n",
        "Let's consider a class representing a vehicle. A vehicle can have various properties like color, model, and speed, and it can perform actions like starting, stopping, and accelerating. In an abstract sense, we are only concerned with what a vehicle can do rather than how each action is implemented.\n",
        "\n",
        "Here's a simple example of how abstraction can be implemented in Python:"
      ],
      "metadata": {
        "id": "Ge7ClqZEygpX"
      }
    },
    {
      "cell_type": "code",
      "source": [
        "from abc import ABC, abstractmethod\n",
        "\n",
        "class Vehicle(ABC):\n",
        "    def __init__(self, color, model):\n",
        "        self.color = color\n",
        "        self.model = model\n",
        "\n",
        "    @abstractmethod\n",
        "    def start(self):\n",
        "        pass\n",
        "\n",
        "    @abstractmethod\n",
        "    def stop(self):\n",
        "        pass\n",
        "\n",
        "class Car(Vehicle):\n",
        "    def start(self):\n",
        "        return \"Car started\"\n",
        "\n",
        "    def stop(self):\n",
        "        return \"Car stopped\"\n",
        "\n",
        "class Motorcycle(Vehicle):\n",
        "    def start(self):\n",
        "        return \"Motorcycle started\"\n",
        "\n",
        "    def stop(self):\n",
        "        return \"Motorcycle stopped\"\n",
        "\n",
        "car = Car(\"Red\", \"Toyota\")\n",
        "print(car.start())\n",
        "print(car.stop())\n",
        "\n",
        "motorcycle = Motorcycle(\"Black\", \"Honda\")\n",
        "print(motorcycle.start())\n",
        "print(motorcycle.stop())"
      ],
      "metadata": {
        "colab": {
          "base_uri": "https://localhost:8080/"
        },
        "id": "9l0eFRdNyu2-",
        "outputId": "af52cdc6-2999-430b-b598-e2b6bb4edd92"
      },
      "execution_count": null,
      "outputs": [
        {
          "output_type": "stream",
          "name": "stdout",
          "text": [
            "Car started\n",
            "Car stopped\n",
            "Motorcycle started\n",
            "Motorcycle stopped\n"
          ]
        }
      ]
    },
    {
      "cell_type": "code",
      "source": [],
      "metadata": {
        "id": "X2rhS-fBy3Tm"
      },
      "execution_count": null,
      "outputs": []
    },
    {
      "cell_type": "markdown",
      "source": [
        "2. Differentiate between Abstraction and Encapsulation . Explain with an example ."
      ],
      "metadata": {
        "id": "nD0DAaOLy3rX"
      }
    },
    {
      "cell_type": "markdown",
      "source": [
        "Abstraction and encapsulation are two fundamental concepts in object-oriented programming (OOP), often used together but serving different purposes.\n",
        "\n",
        "1. Abstraction:\n",
        "* Abstraction refers to the concept of representing essential features without including the background details or explanations. It focuses on what an object does rather than how it achieves it.\n",
        "* Abstraction allows developers to create simplified models that capture the most important aspects of an object, making it easier to understand and work with.\n",
        "\n",
        "* Example of Abstraction:\n",
        "\n",
        " * Consider a bank account. From an abstract perspective, a bank account allows you to perform operations such as depositing money, withdrawing money, and checking the balance. The exact details of how these operations are implemented within the bank's system are abstracted away. Users of the bank account interface don't need to know about the internal mechanisms of the bank's database or transaction processing; they only interact with the abstraction provided by the bank's software.\n",
        "\n",
        "2 Encapsulation:\n",
        "* Encapsulation refers to the bundling of data and methods that operate on that data into a single unit, often called a class. It involves hiding the internal state and requiring all interactions to occur through well-defined interfaces. * Encapsulation allows for data hiding and ensures that the implementation details of a class are hidden from outside access, reducing complexity and enhancing security.\n",
        "\n",
        "* Example of Encapsulation:\n",
        "\n",
        " * Continuing with the bank account example, encapsulation involves bundling the data associated with the account (e.g., account holder's name, balance) and the methods that operate on this data (e.g., deposit(), withdraw(), get_balance()) into a single class, say BankAccount. The class BankAccount provides a well-defined interface for interacting with bank accounts while hiding the internal details of how these operations are implemented. Users of the BankAccount class don't need to know how the data is stored or how the methods are implemented internally; they only need to know how to use the provided interface."
      ],
      "metadata": {
        "id": "n1F5rCdCy97A"
      }
    },
    {
      "cell_type": "code",
      "source": [],
      "metadata": {
        "id": "5LxXPokJzeaa"
      },
      "execution_count": null,
      "outputs": []
    },
    {
      "cell_type": "markdown",
      "source": [
        "3. What is abc module in python ?  Why is it used  ?"
      ],
      "metadata": {
        "id": "1KZcAHXmzey9"
      }
    },
    {
      "cell_type": "markdown",
      "source": [
        "The abc module in Python stands for \"Abstract Base Classes.\" It provides a way to define abstract base classes in Python. Abstract base classes are classes that are designed to be subclassed but not instantiated directly. They serve as templates for other classes and provide a way to define a common interface or behavior that subclasses must implement.\n",
        "\n",
        "The abc module is used for several purposes:\n",
        "\n",
        "1. Defining Abstract Base Classes (ABCs): The abc module provides the ABC class, which is used as a base class for defining abstract base classes. Abstract methods within these classes are declared using the @abstractmethod decorator. Subclasses of these abstract base classes must implement all abstract methods, ensuring that they provide a specific interface or behavior.\n",
        "\n",
        "2. Enforcing Interface Contracts: Abstract base classes allow developers to define a common interface that multiple classes must adhere to. This ensures consistency and provides a way to enforce certain behaviors across different implementations.\n",
        "\n",
        "3. Type Checking and Documentation: Abstract base classes can be used for type checking and documentation purposes. By subclassing an abstract base class, a class indicates that it implements a specific interface. This information can be useful for type hinting, documentation generation, and code readability.\n",
        "\n",
        "4. Providing Default Implementations: Abstract base classes can also provide default implementations for certain methods. Subclasses can choose to override these methods if necessary, but they have the option to inherit the default behavior."
      ],
      "metadata": {
        "id": "fXHYyNnMzpke"
      }
    },
    {
      "cell_type": "code",
      "source": [],
      "metadata": {
        "id": "fUUnyOP4z2bU"
      },
      "execution_count": null,
      "outputs": []
    },
    {
      "cell_type": "markdown",
      "source": [
        "4. How can we achieve data abstraction  ?"
      ],
      "metadata": {
        "id": "eSpnp_Sbz45C"
      }
    },
    {
      "cell_type": "markdown",
      "source": [
        "Data abstraction can be achieved in Python through various mechanisms such as classes, modules, and functions. Here's how each of these mechanisms helps in achieving data abstraction:\n",
        "\n",
        "1. Classes and Objects:\n",
        "* Defining classes allows you to encapsulate data and methods into a single unit. You can define attributes to represent the state of an object and methods to manipulate that state.\n",
        "* By exposing only necessary methods and hiding internal details, classes provide a level of abstraction. Users of the class interact with its public interface without needing to know the underlying implementation details.\n",
        "\n",
        "2. Modules:\n",
        "* Modules allow you to group related functionality together. By importing modules and using their functions or classes, you can work with abstracted functionality without needing to know the implementation details.\n",
        "* Module-level variables and functions provide a level of abstraction by hiding their internal implementation.\n",
        "\n",
        "3. Functions:\n",
        "* Functions encapsulate a block of code that performs a specific task. By defining functions with meaningful names and parameters, you can abstract away the implementation details.\n",
        "* Functions can accept inputs and produce outputs, providing a level of abstraction by hiding the intermediate steps required to perform a computation.\n"
      ],
      "metadata": {
        "id": "rjxDqogS0AdZ"
      }
    },
    {
      "cell_type": "code",
      "source": [],
      "metadata": {
        "id": "UiKDPy5z0l-h"
      },
      "execution_count": null,
      "outputs": []
    },
    {
      "cell_type": "markdown",
      "source": [
        "5. Can we create an instance of an abstract class ? Explain your answer ."
      ],
      "metadata": {
        "id": "udHd6M3J0nkw"
      }
    },
    {
      "cell_type": "markdown",
      "source": [
        "In Python, we cannot create an instance of an abstract class directly. Abstract classes are meant to be subclassed, and they typically contain one or more abstract methods that must be implemented by their subclasses. Abstract methods are defined using the '@abstractmethod' decorator from the abc module.\n",
        "\n",
        "Attempting to create an instance of an abstract class directly will result in a TypeError.\n",
        "\n",
        "Here's an example to illustrate this:"
      ],
      "metadata": {
        "id": "KcaLjIa-0w5r"
      }
    },
    {
      "cell_type": "code",
      "source": [
        "class Shape(ABC):\n",
        "    @abstractmethod\n",
        "    def area(self):\n",
        "        pass\n",
        "\n",
        "class Circle(Shape):\n",
        "    def __init__(self, radius):\n",
        "        self.radius = radius\n",
        "\n",
        "    def area(self):\n",
        "        return 3.14 * self.radius**2\n",
        "\n",
        "# Create an instance of the Circle class\n",
        "circle = Circle(5)\n",
        "\n",
        "# Calculate the area of the circle\n",
        "area = circle.area()\n",
        "\n",
        "print(area)"
      ],
      "metadata": {
        "colab": {
          "base_uri": "https://localhost:8080/"
        },
        "id": "CptIivv01CD0",
        "outputId": "3daefb0d-3a76-46f9-cbb8-ee581c3546ce"
      },
      "execution_count": 2,
      "outputs": [
        {
          "output_type": "stream",
          "name": "stdout",
          "text": [
            "78.5\n"
          ]
        }
      ]
    },
    {
      "cell_type": "markdown",
      "source": [
        "Abstract classes serve as templates or blueprints for other classes and are meant to provide a common interface or behavior that subclasses must adhere to. They are not meant to be instantiated directly because they may not have a complete implementation of their methods, leaving it to their subclasses to provide concrete implementations."
      ],
      "metadata": {
        "id": "hfGYsOWu1In8"
      }
    },
    {
      "cell_type": "code",
      "source": [],
      "metadata": {
        "id": "2DwCitTJ1Ugk"
      },
      "execution_count": null,
      "outputs": []
    }
  ]
}