{
  "nbformat": 4,
  "nbformat_minor": 0,
  "metadata": {
    "colab": {
      "provenance": [],
      "authorship_tag": "ABX9TyN0IS1jLPRAAnId881qrISm",
      "include_colab_link": true
    },
    "kernelspec": {
      "name": "python3",
      "display_name": "Python 3"
    },
    "language_info": {
      "name": "python"
    }
  },
  "cells": [
    {
      "cell_type": "markdown",
      "metadata": {
        "id": "view-in-github",
        "colab_type": "text"
      },
      "source": [
        "<a href=\"https://colab.research.google.com/github/DIVYA14797/python-project/blob/main/python_3feb.ipynb\" target=\"_parent\"><img src=\"https://colab.research.google.com/assets/colab-badge.svg\" alt=\"Open In Colab\"/></a>"
      ]
    },
    {
      "cell_type": "code",
      "execution_count": null,
      "metadata": {
        "id": "GplmyjtwekkD"
      },
      "outputs": [],
      "source": []
    },
    {
      "cell_type": "markdown",
      "source": [
        "1. Which keyword used to create a function ? Create a function to return a list of odd numbers in the range of 1 to 25 .\n",
        "\n"
      ],
      "metadata": {
        "id": "4xEodt7KenCY"
      }
    },
    {
      "cell_type": "code",
      "source": [
        "def odd_numbers():\n",
        "    odd_nums = []\n",
        "    for num in range(1, 26):\n",
        "        if num % 2 != 0:\n",
        "            odd_nums.append(num)\n",
        "    return odd_nums\n",
        "\n",
        "# Test the function\n",
        "print(odd_numbers())"
      ],
      "metadata": {
        "colab": {
          "base_uri": "https://localhost:8080/"
        },
        "id": "P-pQiVMdepRJ",
        "outputId": "c57e2c5e-ff22-4081-e4ae-f537ad59018f"
      },
      "execution_count": null,
      "outputs": [
        {
          "output_type": "stream",
          "name": "stdout",
          "text": [
            "[1, 3, 5, 7, 9, 11, 13, 15, 17, 19, 21, 23, 25]\n"
          ]
        }
      ]
    },
    {
      "cell_type": "code",
      "source": [],
      "metadata": {
        "id": "VrdjvInQetry"
      },
      "execution_count": null,
      "outputs": []
    },
    {
      "cell_type": "markdown",
      "source": [
        "2. Why *args and **kwargs is used in some functions ? Create a function each for *args and **kwargs to demonstrate their use ."
      ],
      "metadata": {
        "id": "PQoQF2xfeuIF"
      }
    },
    {
      "cell_type": "markdown",
      "source": [
        "*args and **kwargs are used in Python functions to handle variable-length arguments.\n",
        "\n",
        "*args allows a function to accept an arbitrary number of positional arguments. These arguments are collected into a tuple within the function. This is useful when you don't know in advance how many arguments will be passed to the function.\n",
        "\n",
        "**kwargs allows a function to accept an arbitrary number of keyword arguments (i.e., arguments passed in the form of key-value pairs). These arguments are collected into a dictionary within the function. This is useful when you want to handle named arguments of varying numbers or kinds.\n",
        "\n",
        "Here are examples demonstrating the use of *args and **kwargs:"
      ],
      "metadata": {
        "id": "OFjIficte6GQ"
      }
    },
    {
      "cell_type": "code",
      "source": [
        "# Function using *args\n",
        "def sum_of_numbers(*args):\n",
        "    total = 0\n",
        "    for num in args:\n",
        "        total += num\n",
        "    return total\n",
        "\n",
        "# Test the function\n",
        "print(sum_of_numbers(1, 2, 3, 4, 5))  # Output: 15\n",
        "\n",
        "\n",
        "# Function using **kwargs\n",
        "def print_details(**kwargs):\n",
        "    for key, value in kwargs.items():\n",
        "        print(f\"{key}: {value}\")\n",
        "\n",
        "# Test the function\n",
        "print_details(name=\"John\", age=30, country=\"USA\")\n"
      ],
      "metadata": {
        "colab": {
          "base_uri": "https://localhost:8080/"
        },
        "id": "tX4OYYnie8t2",
        "outputId": "bfa331f3-1dad-4e6d-9da2-9181e9a9b21f"
      },
      "execution_count": null,
      "outputs": [
        {
          "output_type": "stream",
          "name": "stdout",
          "text": [
            "15\n",
            "name: John\n",
            "age: 30\n",
            "country: USA\n"
          ]
        }
      ]
    },
    {
      "cell_type": "code",
      "source": [],
      "metadata": {
        "id": "VK_fy1dbe4h9"
      },
      "execution_count": null,
      "outputs": []
    },
    {
      "cell_type": "markdown",
      "source": [
        "3. What is an iterator in python ? Name the method used to initiate the iterator object and the method used for iteration . Use these method to print the first five elements of the given list [2,4,6,8,10,12,14,16,18,20] ."
      ],
      "metadata": {
        "id": "P6nuwz4TfJQj"
      }
    },
    {
      "cell_type": "code",
      "source": [
        "# Given list\n",
        "my_list = [2, 4, 6, 8, 10, 12, 14, 16, 18, 20]\n",
        "\n",
        "# Initiate the iterator object\n",
        "my_iterator = iter(my_list)\n",
        "\n",
        "# Iterate through the first five elements using next() method\n",
        "for _ in range(5):\n",
        "    print(next(my_iterator))"
      ],
      "metadata": {
        "colab": {
          "base_uri": "https://localhost:8080/"
        },
        "id": "kxFbH2s9fPfo",
        "outputId": "59c4e2af-5e43-4913-b0c4-890c5615e5d0"
      },
      "execution_count": null,
      "outputs": [
        {
          "output_type": "stream",
          "name": "stdout",
          "text": [
            "2\n",
            "4\n",
            "6\n",
            "8\n",
            "10\n"
          ]
        }
      ]
    },
    {
      "cell_type": "code",
      "source": [],
      "metadata": {
        "id": "t16WWuzjfUDY"
      },
      "execution_count": null,
      "outputs": []
    },
    {
      "cell_type": "markdown",
      "source": [
        "4. What is a generator function in python ? Why yield keyword is used ? Give an example of a generator function ."
      ],
      "metadata": {
        "id": "y5Hs4MwcfUb4"
      }
    },
    {
      "cell_type": "markdown",
      "source": [
        "A generator function in Python is a special type of function that allows you to generate a sequence of values lazily, as they are needed, rather than generating and storing all values at once like a regular function would. This lazy evaluation can save memory and improve performance, especially when dealing with large datasets or infinite sequences.\n",
        "\n",
        "The yield keyword is used in generator functions to yield values one at a time, pausing the function's execution and saving its state so that it can be resumed later. Unlike return, which terminates the function and returns a single value, yield allows the function to produce multiple values over time.\n",
        "\n",
        "Here's an example of a generator function that generates Fibonacci numbers:"
      ],
      "metadata": {
        "id": "OAZAadGkfaSO"
      }
    },
    {
      "cell_type": "code",
      "source": [
        "def fibonacci():\n",
        "    a, b = 0, 1\n",
        "    while True:\n",
        "        yield a\n",
        "        a, b = b, a + b\n",
        "\n",
        "# Create a generator object\n",
        "fib_gen = fibonacci()\n",
        "\n",
        "# Print the first 10 Fibonacci numbers\n",
        "for _ in range(10):\n",
        "    print(next(fib_gen))"
      ],
      "metadata": {
        "colab": {
          "base_uri": "https://localhost:8080/"
        },
        "id": "ViMGFDrXfdt5",
        "outputId": "da10a9ab-005f-4f39-ca1e-98f3487a9411"
      },
      "execution_count": null,
      "outputs": [
        {
          "output_type": "stream",
          "name": "stdout",
          "text": [
            "0\n",
            "1\n",
            "1\n",
            "2\n",
            "3\n",
            "5\n",
            "8\n",
            "13\n",
            "21\n",
            "34\n"
          ]
        }
      ]
    },
    {
      "cell_type": "code",
      "source": [],
      "metadata": {
        "id": "egEuDpV3fi1e"
      },
      "execution_count": null,
      "outputs": []
    },
    {
      "cell_type": "markdown",
      "source": [
        "5. Create a generator function for prime numbers less than 1000 . Use the next() method to print the first  20 prime numbers .\n",
        "\n"
      ],
      "metadata": {
        "id": "KNFhAwiQfjjc"
      }
    },
    {
      "cell_type": "code",
      "source": [
        "def is_prime(n):\n",
        "    if n <= 1:\n",
        "        return False\n",
        "    elif n <= 3:\n",
        "        return True\n",
        "    elif n % 2 == 0 or n % 3 == 0:\n",
        "        return False\n",
        "    i = 5\n",
        "    while i * i <= n:\n",
        "        if n % i == 0 or n % (i + 2) == 0:\n",
        "            return False\n",
        "        i += 6\n",
        "    return True\n",
        "\n",
        "def prime_generator():\n",
        "    num = 2\n",
        "    while num < 1000:\n",
        "        if is_prime(num):\n",
        "            yield num\n",
        "        num += 1\n",
        "\n",
        "# Create a generator object\n",
        "prime_gen = prime_generator()\n",
        "\n",
        "# Print the first 20 prime numbers\n",
        "for _ in range(20):\n",
        "    print(next(prime_gen))"
      ],
      "metadata": {
        "colab": {
          "base_uri": "https://localhost:8080/"
        },
        "id": "QImLtiqAfosu",
        "outputId": "9b753e64-aca1-4e50-f98d-153a7f30b21b"
      },
      "execution_count": null,
      "outputs": [
        {
          "output_type": "stream",
          "name": "stdout",
          "text": [
            "2\n",
            "3\n",
            "5\n",
            "7\n",
            "11\n",
            "13\n",
            "17\n",
            "19\n",
            "23\n",
            "29\n",
            "31\n",
            "37\n",
            "41\n",
            "43\n",
            "47\n",
            "53\n",
            "59\n",
            "61\n",
            "67\n",
            "71\n"
          ]
        }
      ]
    },
    {
      "cell_type": "code",
      "source": [],
      "metadata": {
        "id": "E5BWw0OAftKk"
      },
      "execution_count": null,
      "outputs": []
    },
    {
      "cell_type": "markdown",
      "source": [
        "6. Write a python program to print the first 10 Fibonacci numbers using a while loop ."
      ],
      "metadata": {
        "id": "To4BkhyCftc0"
      }
    },
    {
      "cell_type": "code",
      "source": [
        "# Function to print the first 10 Fibonacci numbers\n",
        "def print_fibonacci():\n",
        "    # Initialize the first two Fibonacci numbers\n",
        "    fib1, fib2 = 0, 1\n",
        "\n",
        "    # Counter to keep track of how many Fibonacci numbers have been printed\n",
        "    count = 0\n",
        "\n",
        "    # Loop to print the Fibonacci numbers\n",
        "    while count < 10:\n",
        "        # Print the current Fibonacci number\n",
        "        print(fib1)\n",
        "\n",
        "        # Calculate the next Fibonacci number\n",
        "        fib_next = fib1 + fib2\n",
        "\n",
        "        # Update fib1 and fib2 for the next iteration\n",
        "        fib1 = fib2\n",
        "        fib2 = fib_next\n",
        "\n",
        "        # Increment the count\n",
        "        count += 1\n",
        "\n",
        "# Call the function to print the first 10 Fibonacci numbers\n",
        "print_fibonacci()"
      ],
      "metadata": {
        "colab": {
          "base_uri": "https://localhost:8080/"
        },
        "id": "lX3oNUIOfyFN",
        "outputId": "ca90ca7a-9315-425e-cc70-d29898757e48"
      },
      "execution_count": null,
      "outputs": [
        {
          "output_type": "stream",
          "name": "stdout",
          "text": [
            "0\n",
            "1\n",
            "1\n",
            "2\n",
            "3\n",
            "5\n",
            "8\n",
            "13\n",
            "21\n",
            "34\n"
          ]
        }
      ]
    },
    {
      "cell_type": "code",
      "source": [],
      "metadata": {
        "id": "nhH3qvBif4Jg"
      },
      "execution_count": null,
      "outputs": []
    },
    {
      "cell_type": "markdown",
      "source": [
        "7. Write a list comprehension to iterate through the given string :  'pwskills' .\n",
        "\n",
        "  Expected output : ['p','w','s','k','i','l','l','s']\n",
        "\n"
      ],
      "metadata": {
        "id": "v6oBxlwjf4ez"
      }
    },
    {
      "cell_type": "code",
      "source": [
        "string = 'pwskills'\n",
        "\n",
        "# List comprehension to iterate through the string and filter characters\n",
        "output = [char for char in string if string.count(char) > 1]\n",
        "\n",
        "print(output)"
      ],
      "metadata": {
        "colab": {
          "base_uri": "https://localhost:8080/"
        },
        "id": "11lX57-OgCxY",
        "outputId": "4e77550e-9472-43cc-e76e-3b758dbe4706"
      },
      "execution_count": null,
      "outputs": [
        {
          "output_type": "stream",
          "name": "stdout",
          "text": [
            "['s', 'l', 'l', 's']\n"
          ]
        }
      ]
    },
    {
      "cell_type": "code",
      "source": [],
      "metadata": {
        "id": "Ua6i97w7gGva"
      },
      "execution_count": null,
      "outputs": []
    }
  ]
}