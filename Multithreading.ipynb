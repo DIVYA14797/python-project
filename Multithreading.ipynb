{
  "nbformat": 4,
  "nbformat_minor": 0,
  "metadata": {
    "colab": {
      "provenance": [],
      "authorship_tag": "ABX9TyOSpMKnc/shqDWUwEG5Hx6J",
      "include_colab_link": true
    },
    "kernelspec": {
      "name": "python3",
      "display_name": "Python 3"
    },
    "language_info": {
      "name": "python"
    }
  },
  "cells": [
    {
      "cell_type": "markdown",
      "metadata": {
        "id": "view-in-github",
        "colab_type": "text"
      },
      "source": [
        "<a href=\"https://colab.research.google.com/github/DIVYA14797/python-project/blob/main/Multithreading.ipynb\" target=\"_parent\"><img src=\"https://colab.research.google.com/assets/colab-badge.svg\" alt=\"Open In Colab\"/></a>"
      ]
    },
    {
      "cell_type": "code",
      "execution_count": null,
      "metadata": {
        "id": "dna35X0DeOsV"
      },
      "outputs": [],
      "source": []
    },
    {
      "cell_type": "markdown",
      "source": [
        "1. What is multithreading in python ?Why is it used ? Name the module used to handle threads in python ."
      ],
      "metadata": {
        "id": "ELT8JGRSeP96"
      }
    },
    {
      "cell_type": "markdown",
      "source": [
        "Multithreading in Python refers to the ability of a program to execute multiple threads concurrently within a single process. Each thread represents a separate flow of execution, allowing for parallelism in tasks.\n",
        "\n",
        "Multithreading is used to improve the performance of a program by efficiently utilizing the CPU resources. It is particularly useful in scenarios where there are multiple independent tasks that can be executed simultaneously. For example, in applications involving I/O-bound operations like network requests, file operations, or GUI interactions, multithreading can prevent blocking the main thread and keep the application responsive.\n",
        "\n",
        "The 'threading' module is used to handle threads in Python. It provides a high-level interface for creating and managing threads. With this module, you can create new threads, start them, pause or resume them, and synchronize their execution using locks, semaphores, and condition variables.\n",
        "\n",
        "Here's a simple example of using the 'threading' module to create and start a new thread:"
      ],
      "metadata": {
        "id": "RT_UYMwheRrU"
      }
    },
    {
      "cell_type": "code",
      "source": [
        "import threading\n",
        "import time\n",
        "\n",
        "def print_numbers():\n",
        "    for i in range(5):\n",
        "        print(i)\n",
        "        time.sleep(1)\n",
        "\n",
        "# Create a new thread\n",
        "thread = threading.Thread(target=print_numbers)\n",
        "\n",
        "# Start the thread\n",
        "thread.start()\n",
        "\n",
        "# Wait for the thread to finish\n",
        "thread.join()\n",
        "\n",
        "print(\"Thread execution completed.\")"
      ],
      "metadata": {
        "colab": {
          "base_uri": "https://localhost:8080/"
        },
        "id": "1c0xDRWWehbV",
        "outputId": "3447782c-8e8b-4d3d-c34e-9a43e122bf2f"
      },
      "execution_count": null,
      "outputs": [
        {
          "output_type": "stream",
          "name": "stdout",
          "text": [
            "0\n",
            "1\n",
            "2\n",
            "3\n",
            "4\n",
            "Thread execution completed.\n"
          ]
        }
      ]
    },
    {
      "cell_type": "code",
      "source": [],
      "metadata": {
        "id": "dT5ChhRzeqbR"
      },
      "execution_count": null,
      "outputs": []
    },
    {
      "cell_type": "markdown",
      "source": [
        "2. Why threading module used ? Write the use of following functions :\n",
        "\n",
        "1) activeCount()   \n",
        "2) currentThread()   \n",
        "3) enumerate()"
      ],
      "metadata": {
        "id": "NVbI-bvneqwj"
      }
    },
    {
      "cell_type": "markdown",
      "source": [
        "The 'threading' module in Python is used for creating, controlling, and managing threads in a multithreaded environment. It provides a high-level interface for working with threads, allowing developers to write concurrent programs more easily.\n",
        "\n",
        "1)  activeCount():\n",
        "\n",
        "* This function returns the number of Thread objects currently alive.\n",
        "* Use case:\n",
        " * It can be used to monitor the number of active threads in a program, which can be useful for debugging or performance monitoring purposes.\n",
        "\n",
        "2) currentThread():\n",
        "\n",
        "* This function returns the current Thread object, representing the thread from which it is called.\n",
        "* Use case:\n",
        " * It can be used to obtain information about the current thread, such as its name, identifier, or other attributes. For example, you might want to log information about the current thread's execution.\n",
        "\n",
        "3) enumerate():\n",
        "\n",
        "* This function returns a list of all active Thread objects currently alive.\n",
        "* Use case:\n",
        " * It can be used to obtain a list of all active threads in a program. This can be useful for monitoring, debugging, or interacting with threads dynamically during runtime. You can iterate over the list returned by enumerate() to perform operations on each active thread, such as checking their status or terminating them if necessary."
      ],
      "metadata": {
        "id": "zbnZpy9pe32u"
      }
    },
    {
      "cell_type": "code",
      "source": [],
      "metadata": {
        "id": "uAPvGTGXfvFp"
      },
      "execution_count": null,
      "outputs": []
    },
    {
      "cell_type": "markdown",
      "source": [
        "3. Explain the following functions :   \n",
        "\n",
        "1) run()     \n",
        "2) start()     \n",
        "3) join()      \n",
        "4) is Alive"
      ],
      "metadata": {
        "id": "SmbT6TnNfvan"
      }
    },
    {
      "cell_type": "markdown",
      "source": [
        "1)  run():\n",
        "\n",
        "* The run() method is called when a thread is started using the start() method. It represents the activity that the thread will perform.\n",
        "* This method needs to be overridden in a subclass of Thread to define the behavior of the thread.\n",
        "* When you call start() on a Thread object, it internally calls the run() method of that object.\n",
        "\n",
        "2) start():\n",
        "\n",
        "* The start() method is used to start the execution of a thread.\n",
        "* When you call start() on a Thread object, it spawns a new thread and calls the run() method of that object.\n",
        "* It returns immediately after the thread is started and does not wait for the thread to finish its execution.\n",
        "\n",
        "3) join():\n",
        "\n",
        "* The join() method is used to wait for the thread to complete its execution.\n",
        "* When you call join() on a Thread object, the calling thread (usually the main thread) will wait until the specified thread (the one on which join() is called) finishes execution.\n",
        "* If you don't call join(), the main thread may continue execution while the other thread is still running.\n",
        "\n",
        "4) is_alive():\n",
        "\n",
        "* The is_alive() method is used to check if the thread is currently alive or not.\n",
        "* It returns True if the thread is alive (i.e., it has been started but has not yet completed its run), and False otherwise.\n",
        "* This method can be used to check the status of a thread and take appropriate action based on its state."
      ],
      "metadata": {
        "id": "95UEyxXSf79q"
      }
    },
    {
      "cell_type": "code",
      "source": [],
      "metadata": {
        "id": "YLRUIA2vgXUD"
      },
      "execution_count": null,
      "outputs": []
    },
    {
      "cell_type": "markdown",
      "source": [
        "4. Write a python program to create two threads . Thread one must print of squares and thread two must print the list of cubes ."
      ],
      "metadata": {
        "id": "zhELP960gYFq"
      }
    },
    {
      "cell_type": "code",
      "source": [
        "import threading\n",
        "\n",
        "def print_squares():\n",
        "    for i in range(1, 11):\n",
        "        print(f\"Square of {i}: {i*i}\")\n",
        "\n",
        "def print_cubes():\n",
        "    for i in range(1, 11):\n",
        "        print(f\"Cube of {i}: {i*i*i}\")\n",
        "\n",
        "# Creating threads\n",
        "thread1 = threading.Thread(target=print_squares)\n",
        "thread2 = threading.Thread(target=print_cubes)\n",
        "\n",
        "# Starting threads\n",
        "thread1.start()\n",
        "thread2.start()\n",
        "\n",
        "# Waiting for threads to complete\n",
        "thread1.join()\n",
        "thread2.join()\n",
        "\n",
        "print(\"Main thread execution completed.\")"
      ],
      "metadata": {
        "colab": {
          "base_uri": "https://localhost:8080/"
        },
        "id": "0c7JXYwEgcuZ",
        "outputId": "3368af27-770c-48cb-9a66-99c433021495"
      },
      "execution_count": null,
      "outputs": [
        {
          "output_type": "stream",
          "name": "stdout",
          "text": [
            "Square of 1: 1Cube of 1: 1\n",
            "Cube of 2: 8\n",
            "Cube of 3: 27\n",
            "Cube of 4: 64\n",
            "Cube of 5: 125\n",
            "Cube of 6: 216\n",
            "Cube of 7: 343\n",
            "Cube of 8: 512\n",
            "Cube of 9: 729\n",
            "Cube of 10: 1000\n",
            "\n",
            "Square of 2: 4\n",
            "Square of 3: 9\n",
            "Square of 4: 16\n",
            "Square of 5: 25\n",
            "Square of 6: 36\n",
            "Square of 7: 49\n",
            "Square of 8: 64\n",
            "Square of 9: 81\n",
            "Square of 10: 100\n",
            "Main thread execution completed.\n"
          ]
        }
      ]
    },
    {
      "cell_type": "code",
      "source": [],
      "metadata": {
        "id": "JsHmqXaRgj1J"
      },
      "execution_count": null,
      "outputs": []
    },
    {
      "cell_type": "markdown",
      "source": [
        "5. State advantages and disadvantages of multithreading ."
      ],
      "metadata": {
        "id": "MIgKHPhZgkMZ"
      }
    },
    {
      "cell_type": "markdown",
      "source": [
        "Advantages of Multithreading:\n",
        "\n",
        "1. Improved Performance: Multithreading can improve the performance of applications, especially in scenarios where tasks can be executed concurrently. By utilizing multiple threads, the CPU resources can be utilized more efficiently, leading to faster execution times.\n",
        "\n",
        "2. Responsiveness: Multithreading allows for better responsiveness in applications, particularly in GUI applications or applications with user interaction. By running time-consuming tasks in separate threads, the main thread can remain responsive to user input, enhancing the overall user experience.\n",
        "\n",
        "3. Resource Sharing: Threads within the same process share the same memory space, allowing for easy sharing of resources such as variables, data structures, and files. This facilitates communication and coordination between threads and simplifies the development of concurrent applications.\n",
        "\n",
        "4. Simplified Parallelism: Multithreading simplifies the development of parallel programs by allowing developers to express concurrency at a higher level of abstraction. This makes it easier to write and maintain concurrent code compared to lower-level parallel programming models.\n",
        "\n",
        "Disadvantages of Multithreading:\n",
        "\n",
        "1. Complexity: Multithreading introduces complexity into software development, as concurrent execution can lead to synchronization issues, race conditions, and deadlocks. Managing shared resources and coordinating the execution of multiple threads requires careful design and can be challenging to get right.\n",
        "\n",
        "2. Increased Overhead: Multithreading comes with overhead associated with thread creation, context switching, and synchronization mechanisms such as locks and semaphores. This overhead can degrade performance, particularly in applications with a large number of threads or frequent context switches.\n",
        "\n",
        "2. Debugging and Testing: Debugging multithreaded programs can be difficult due to non-deterministic behavior and timing-dependent issues. Identifying and resolving concurrency bugs, such as race conditions or deadlocks, often requires advanced debugging techniques and thorough testing.\n",
        "\n",
        "4. Scalability Limitations: Although multithreading can improve performance on multi-core processors, it may not always scale linearly with the number of threads due to factors such as contention for shared resources or synchronization overhead. In some cases, adding more threads may not lead to a proportional increase in performance and could even degrade performance."
      ],
      "metadata": {
        "id": "Cymw7HPqgpb2"
      }
    },
    {
      "cell_type": "code",
      "source": [],
      "metadata": {
        "id": "BfiCV4Zdg8F5"
      },
      "execution_count": null,
      "outputs": []
    },
    {
      "cell_type": "markdown",
      "source": [
        "6. Explain deadlocks and race conditions ."
      ],
      "metadata": {
        "id": "2bt9Wx_Ng8cT"
      }
    },
    {
      "cell_type": "markdown",
      "source": [
        "1. Deadlock:\n",
        "\n",
        "* Deadlock occurs when two or more threads are waiting for each other to release resources that they need in order to proceed. As a result, none of the threads can make progress, leading to a deadlock situation where the program hangs indefinitely.\n",
        "* Deadlocks typically occur when multiple threads acquire locks on resources in different orders and then wait for each other to release the locks.\n",
        "* Deadlocks can be challenging to detect and debug, as they often manifest themselves as a program that appears to be stuck or unresponsive.\n",
        "* Preventing deadlocks usually involves careful design and implementation of locking mechanisms, such as ensuring that locks are acquired in a consistent order and using techniques like deadlock detection and avoidance.\n",
        "\n",
        "2. Race Condition:\n",
        "\n",
        "* A race condition occurs when the behavior of a program depends on the timing or interleaving of operations performed by multiple threads. In other words, the outcome of the program depends on which thread executes its operations first, leading to non-deterministic behavior.\n",
        "* Race conditions typically occur when multiple threads access shared resources concurrently without proper synchronization or coordination.\n",
        "* Common examples of race conditions include read-modify-write operations on shared variables, where the outcome depends on the order in which threads perform the read and write operations.\n",
        "* Race conditions can result in unexpected or incorrect behavior, such as data corruption, inconsistent program state, or crashes.\n",
        "* Preventing race conditions requires careful synchronization of access to shared resources using locking mechanisms such as mutexes, semaphores, or other synchronization primitives. Ensuring that critical sections of code are executed atomically or using higher-level concurrency abstractions can also help prevent race conditions."
      ],
      "metadata": {
        "id": "ugdRjEvdhBPX"
      }
    },
    {
      "cell_type": "code",
      "source": [],
      "metadata": {
        "id": "qXrbE9ZMhl1J"
      },
      "execution_count": null,
      "outputs": []
    }
  ]
}