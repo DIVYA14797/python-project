{
  "nbformat": 4,
  "nbformat_minor": 0,
  "metadata": {
    "colab": {
      "provenance": [],
      "authorship_tag": "ABX9TyPfvz1XIKbNm8MKBtZg4rvd",
      "include_colab_link": true
    },
    "kernelspec": {
      "name": "python3",
      "display_name": "Python 3"
    },
    "language_info": {
      "name": "python"
    }
  },
  "cells": [
    {
      "cell_type": "markdown",
      "metadata": {
        "id": "view-in-github",
        "colab_type": "text"
      },
      "source": [
        "<a href=\"https://colab.research.google.com/github/DIVYA14797/python-project/blob/main/Assignment_2.ipynb\" target=\"_parent\"><img src=\"https://colab.research.google.com/assets/colab-badge.svg\" alt=\"Open In Colab\"/></a>"
      ]
    },
    {
      "cell_type": "code",
      "execution_count": null,
      "metadata": {
        "id": "t5BFOj1SSEMA"
      },
      "outputs": [],
      "source": []
    },
    {
      "cell_type": "markdown",
      "source": [
        "1. How do you comment code in python ? What are the different types of comment ?"
      ],
      "metadata": {
        "id": "5--nBcc9TQkA"
      }
    },
    {
      "cell_type": "markdown",
      "source": [
        "In Python, you can comment code using the '#' symbol for single-line comments and triple quotes ''' or \"\"\" for multi-line comments. Here's how you can use each type of comment:\n",
        "\n",
        "1. Single-line comments: Single-line comments are used for brief comments on a single line of code."
      ],
      "metadata": {
        "id": "5AB2tubkTaSX"
      }
    },
    {
      "cell_type": "code",
      "source": [
        "# This is a single-line comment\n",
        "x = 10  # Assigning the value 10 to the variable x"
      ],
      "metadata": {
        "id": "zn54kFRaTxTU"
      },
      "execution_count": null,
      "outputs": []
    },
    {
      "cell_type": "markdown",
      "source": [
        "2. Multi-line comments with triple quotes: Multi-line comments are used for longer comments spanning multiple lines.\n"
      ],
      "metadata": {
        "id": "mwSRn_TzT5Y-"
      }
    },
    {
      "cell_type": "code",
      "source": [
        "'''\n",
        "This is a multi-line comment\n",
        "It can span multiple lines\n",
        "'''\n",
        "x = 10"
      ],
      "metadata": {
        "id": "5pR6ZYqLT_hl"
      },
      "execution_count": null,
      "outputs": []
    },
    {
      "cell_type": "markdown",
      "source": [
        "3. Docstrings: Docstrings are used to provide documentation for functions, classes, modules, or methods. They are defined using triple quotes and are typically placed immediately after the definition of the function, class, or module."
      ],
      "metadata": {
        "id": "ra7h14iYUJqP"
      }
    },
    {
      "cell_type": "code",
      "source": [
        "def my_function():\n",
        "    \"\"\"\n",
        "    This is a docstring for my_function.\n",
        "    It describes what the function does.\n",
        "    \"\"\"\n",
        "    pass"
      ],
      "metadata": {
        "id": "3BMGJ1eZUM3B"
      },
      "execution_count": null,
      "outputs": []
    },
    {
      "cell_type": "markdown",
      "source": [
        "It's important to note that while multi-line comments using triple quotes are technically not true comments but rather string literals, they are often used for the purpose of commenting out multiple lines of code or adding multi-line comments because Python does not have a built-in syntax for multi-line comments.\n",
        "\n",
        "In practice, single-line comments ('#') and docstrings are most commonly used for commenting code in Python, with single-line comments being used for brief comments inline with code and docstrings being used for documentation purposes."
      ],
      "metadata": {
        "id": "4Sy3sxShUwWc"
      }
    },
    {
      "cell_type": "code",
      "source": [],
      "metadata": {
        "id": "3chlYuj7U6f7"
      },
      "execution_count": null,
      "outputs": []
    },
    {
      "cell_type": "markdown",
      "source": [
        "2. What are variables in Python ?How do you declare and assign values to variables ?"
      ],
      "metadata": {
        "id": "NQvy-sJfU7Lb"
      }
    },
    {
      "cell_type": "markdown",
      "source": [
        "In Python, variables are used to store data values. They act as placeholders that can be used to refer to different types of data, such as numbers, strings, lists, dictionaries, etc. Variables provide a way to store and manipulate data within a program.\n",
        "\n",
        "Here's how you declare and assign values to variables in Python:\n",
        "\n",
        "1. Variable Declaration: In Python, you don't need to explicitly declare variables before using them. You can simply assign a value to a variable, and Python will automatically create the variable."
      ],
      "metadata": {
        "id": "3VAlMczDVDGb"
      }
    },
    {
      "cell_type": "code",
      "source": [
        "# Variable declaration and assignment\n",
        "x = 10\n",
        "name = \"John\""
      ],
      "metadata": {
        "id": "TDI3vguPVS84"
      },
      "execution_count": null,
      "outputs": []
    },
    {
      "cell_type": "markdown",
      "source": [
        "2. Assigning Values: You can assign values to variables using the assignment operator '='. The variable name is placed on the left side of the '=' operator, and the value you want to assign is placed on the right side."
      ],
      "metadata": {
        "id": "rCvs3JHAVVAZ"
      }
    },
    {
      "cell_type": "code",
      "source": [
        "# Assigning values to variables\n",
        "x = 10\n",
        "name = \"John\""
      ],
      "metadata": {
        "id": "lriPJb9bVf_C"
      },
      "execution_count": null,
      "outputs": []
    },
    {
      "cell_type": "markdown",
      "source": [
        "3. Multiple Assignments: You can assign multiple variables in a single line by separating them with commas."
      ],
      "metadata": {
        "id": "2ysD_pkgVqcu"
      }
    },
    {
      "cell_type": "code",
      "source": [
        "# Multiple assignments\n",
        "a, b, c = 1, 2, 3"
      ],
      "metadata": {
        "id": "IIUloNQ6Vxlb"
      },
      "execution_count": null,
      "outputs": []
    },
    {
      "cell_type": "markdown",
      "source": [
        "4. Dynamic Typing: Python is dynamically typed, meaning you don't need to specify the data type of a variable when declaring it. Python determines the type of the variable based on the value assigned to it."
      ],
      "metadata": {
        "id": "3ny7WmI6V2w0"
      }
    },
    {
      "cell_type": "code",
      "source": [
        "# Dynamic typing\n",
        "x = 10  # x is an integer\n",
        "name = \"John\"  # name is a string"
      ],
      "metadata": {
        "id": "uUT0xr41WESD"
      },
      "execution_count": null,
      "outputs": []
    },
    {
      "cell_type": "markdown",
      "source": [
        "Variable Naming Rules:\n",
        "* Variable names can contain letters (a-z, A-Z), digits (0-9), and underscores (_).\n",
        "* Variable names cannot start with a digit.\n",
        "* Variable names are case-sensitive ('x' and 'X' are different variables).\n",
        "* Avoid using Python keywords and built-in functions as variable names.\n",
        "* Variable names should be descriptive and meaningful to enhance code readability."
      ],
      "metadata": {
        "id": "VytEU-cYZVMY"
      }
    },
    {
      "cell_type": "code",
      "source": [
        "# Valid variable names\n",
        "age = 30\n",
        "first_name = \"John\"\n",
        "total_students = 1000\n",
        "\n",
        "# Invalid variable names\n",
        "3students = 10  # Variable names cannot start with a digit\n",
        "total-students = 1000  # Variable names cannot contain hyphens"
      ],
      "metadata": {
        "id": "kzjdIImbWHO6"
      },
      "execution_count": null,
      "outputs": []
    },
    {
      "cell_type": "code",
      "source": [],
      "metadata": {
        "id": "NwxnUz3QZtMS"
      },
      "execution_count": null,
      "outputs": []
    },
    {
      "cell_type": "markdown",
      "source": [
        "3. How do you convert one data type to another in Python ?"
      ],
      "metadata": {
        "id": "B9VNSEv3WHtL"
      }
    },
    {
      "cell_type": "markdown",
      "source": [
        "In Python, you can convert one data type to another using type conversion functions or constructors. Here are some commonly used methods for type conversion:\n",
        "\n",
        "1. Implicit Type Conversion (Coercion): Python automatically converts one data type to another when needed, such as during arithmetic operations involving different types."
      ],
      "metadata": {
        "id": "Ilc1FlHTZ47X"
      }
    },
    {
      "cell_type": "code",
      "source": [
        "x = 10  # integer\n",
        "y = 5.0  # float\n",
        "\n",
        "# Implicit conversion from integer to float\n",
        "result = x + y\n",
        "print(result)  # Output: 15.0"
      ],
      "metadata": {
        "colab": {
          "base_uri": "https://localhost:8080/"
        },
        "id": "wBOu8H-_aBKZ",
        "outputId": "ab6dd285-a6c2-4ef9-971b-9d570ac3f5fa"
      },
      "execution_count": null,
      "outputs": [
        {
          "output_type": "stream",
          "name": "stdout",
          "text": [
            "15.0\n"
          ]
        }
      ]
    },
    {
      "cell_type": "markdown",
      "source": [
        "2. Explicit Type Conversion (Type Casting): You can explicitly convert data types using predefined functions or constructors.\n",
        "* int(): Converts a value to an integer."
      ],
      "metadata": {
        "id": "wAMUZNaIaH8J"
      }
    },
    {
      "cell_type": "code",
      "source": [
        "x = 10.5  # float\n",
        "y = int(x)\n",
        "print(y)"
      ],
      "metadata": {
        "colab": {
          "base_uri": "https://localhost:8080/"
        },
        "id": "uPDPoDPvaTgr",
        "outputId": "0fdd389c-9e7b-42d5-c502-0ae91d8bce0d"
      },
      "execution_count": null,
      "outputs": [
        {
          "output_type": "stream",
          "name": "stdout",
          "text": [
            "10\n"
          ]
        }
      ]
    },
    {
      "cell_type": "markdown",
      "source": [
        "* float(): Converts a value to a floating-point number."
      ],
      "metadata": {
        "id": "M6-RFTT2aba4"
      }
    },
    {
      "cell_type": "code",
      "source": [
        "x = 10  # integer\n",
        "y = float(x)\n",
        "print(y)"
      ],
      "metadata": {
        "colab": {
          "base_uri": "https://localhost:8080/"
        },
        "id": "RCyM0u_EajbP",
        "outputId": "e3f3b67c-f55c-4f9e-a9ef-66c48a46e112"
      },
      "execution_count": null,
      "outputs": [
        {
          "output_type": "stream",
          "name": "stdout",
          "text": [
            "10.0\n"
          ]
        }
      ]
    },
    {
      "cell_type": "markdown",
      "source": [
        "* str(): Converts a value to a string."
      ],
      "metadata": {
        "id": "waUQIG8maq_T"
      }
    },
    {
      "cell_type": "code",
      "source": [
        "x = 10  # integer\n",
        "y = str(x)\n",
        "print(y)"
      ],
      "metadata": {
        "colab": {
          "base_uri": "https://localhost:8080/"
        },
        "id": "qm7W5deoawVr",
        "outputId": "b4ff329e-b464-4837-c8fa-d9cc1a9d9ea0"
      },
      "execution_count": null,
      "outputs": [
        {
          "output_type": "stream",
          "name": "stdout",
          "text": [
            "10\n"
          ]
        }
      ]
    },
    {
      "cell_type": "markdown",
      "source": [
        "* list(): Converts a sequence (e.g., tuple, string, or range) to a list."
      ],
      "metadata": {
        "id": "uc4DK3V7a1HM"
      }
    },
    {
      "cell_type": "code",
      "source": [
        "x = (1, 2, 3)  # tuple\n",
        "y = list(x)\n",
        "print(y)"
      ],
      "metadata": {
        "colab": {
          "base_uri": "https://localhost:8080/"
        },
        "id": "v7ayjyiRa5Fc",
        "outputId": "1456d9fe-d263-43e5-9ee0-2a5dc06a3cf8"
      },
      "execution_count": null,
      "outputs": [
        {
          "output_type": "stream",
          "name": "stdout",
          "text": [
            "[1, 2, 3]\n"
          ]
        }
      ]
    },
    {
      "cell_type": "markdown",
      "source": [
        "* tuple(): Converts a sequence (e.g., list, string, or range) to a tuple."
      ],
      "metadata": {
        "id": "R8ggbFooa-GH"
      }
    },
    {
      "cell_type": "code",
      "source": [
        "x = [1, 2, 3]  # list\n",
        "y = tuple(x)\n",
        "print(y)"
      ],
      "metadata": {
        "colab": {
          "base_uri": "https://localhost:8080/"
        },
        "id": "uD2Ojx16bCaW",
        "outputId": "a54115b3-027d-4790-e2b0-a0034041f701"
      },
      "execution_count": null,
      "outputs": [
        {
          "output_type": "stream",
          "name": "stdout",
          "text": [
            "(1, 2, 3)\n"
          ]
        }
      ]
    },
    {
      "cell_type": "markdown",
      "source": [
        "* set(): Converts a sequence (e.g., list, tuple, or string) to a set."
      ],
      "metadata": {
        "id": "tUHFHskwbGt8"
      }
    },
    {
      "cell_type": "code",
      "source": [
        "x = [1, 2, 2, 3]  # list\n",
        "y = set(x)\n",
        "print(y)"
      ],
      "metadata": {
        "colab": {
          "base_uri": "https://localhost:8080/"
        },
        "id": "WMWWDZ3nbLXL",
        "outputId": "4cd0efe8-d562-4918-b043-a188ba37ab70"
      },
      "execution_count": null,
      "outputs": [
        {
          "output_type": "stream",
          "name": "stdout",
          "text": [
            "{1, 2, 3}\n"
          ]
        }
      ]
    },
    {
      "cell_type": "markdown",
      "source": [
        "* dict(): Converts a sequence of key-value pairs (e.g., list of tuples) to a dictionary."
      ],
      "metadata": {
        "id": "WgGnqMmLbQLQ"
      }
    },
    {
      "cell_type": "code",
      "source": [
        "x = [('a', 1), ('b', 2)]  # list of tuples\n",
        "y = dict(x)\n",
        "print(y)"
      ],
      "metadata": {
        "colab": {
          "base_uri": "https://localhost:8080/"
        },
        "id": "ViY8HS1ubVen",
        "outputId": "fee2e6d9-b83a-4879-9de1-0d99168c661c"
      },
      "execution_count": null,
      "outputs": [
        {
          "output_type": "stream",
          "name": "stdout",
          "text": [
            "{'a': 1, 'b': 2}\n"
          ]
        }
      ]
    },
    {
      "cell_type": "markdown",
      "source": [
        "* bool(): Converts a value to a boolean."
      ],
      "metadata": {
        "id": "PEhCh6rwbcjD"
      }
    },
    {
      "cell_type": "code",
      "source": [
        "x = 10  # integer\n",
        "y = bool(x)\n",
        "print(y)"
      ],
      "metadata": {
        "colab": {
          "base_uri": "https://localhost:8080/"
        },
        "id": "R6-_OWKQbh8O",
        "outputId": "7057bc8f-658c-48c2-ed89-0b927fca012b"
      },
      "execution_count": null,
      "outputs": [
        {
          "output_type": "stream",
          "name": "stdout",
          "text": [
            "True\n"
          ]
        }
      ]
    },
    {
      "cell_type": "code",
      "source": [],
      "metadata": {
        "id": "FOsTOzPJb749"
      },
      "execution_count": null,
      "outputs": []
    },
    {
      "cell_type": "markdown",
      "source": [
        "4. How do you write and execute a Python script from the command line ?"
      ],
      "metadata": {
        "id": "T0qOBEb8bnAp"
      }
    },
    {
      "cell_type": "markdown",
      "source": [
        "\n",
        "To write and execute a Python script from the command line, you'll follow these steps:\n",
        "\n",
        "1. Write Your Python Script: Use a text editor to write your Python script. Save the script with a '.py' extension. For example, you can create a file named 'myscript.py' and write your Python code in it."
      ],
      "metadata": {
        "id": "LaBwUkPAb_zf"
      }
    },
    {
      "cell_type": "code",
      "source": [
        "# myscript.py\n",
        "\n",
        "print(\"Hello, world!\")"
      ],
      "metadata": {
        "colab": {
          "base_uri": "https://localhost:8080/"
        },
        "id": "KOZ3qrNOcRF4",
        "outputId": "d642089e-2e4e-4c9c-89cb-bcfe8c74be6d"
      },
      "execution_count": null,
      "outputs": [
        {
          "output_type": "stream",
          "name": "stdout",
          "text": [
            "Hello, world!\n"
          ]
        }
      ]
    },
    {
      "cell_type": "markdown",
      "source": [
        "2. Open Command Line Interface (CLI): Open your command-line interface. This could be Command Prompt on Windows, Terminal on macOS, or any terminal emulator on Linux.\n",
        "\n",
        "3. Navigate to the Directory: Navigate to the directory where your Python script is located. You can use the 'cd' command to change directories."
      ],
      "metadata": {
        "id": "mnk2NwP4clbo"
      }
    },
    {
      "cell_type": "code",
      "source": [
        "cd path/to/your/directory"
      ],
      "metadata": {
        "id": "dhKRRO_tcpDw"
      },
      "execution_count": null,
      "outputs": []
    },
    {
      "cell_type": "markdown",
      "source": [
        "4. Execute the Script: Once you're in the correct directory, you can execute your Python script by typing 'python' followed by the name of your script file"
      ],
      "metadata": {
        "id": "Hnr4zBl5c0Cp"
      }
    },
    {
      "cell_type": "code",
      "source": [
        "python myscript.py"
      ],
      "metadata": {
        "id": "2FEVpeoPc_nJ"
      },
      "execution_count": null,
      "outputs": []
    },
    {
      "cell_type": "markdown",
      "source": [
        "5. View the Output: After executing the script, you should see the output printed to the terminal."
      ],
      "metadata": {
        "id": "YTjoP8D6dERG"
      }
    },
    {
      "cell_type": "code",
      "source": [
        "Hello, world!\n"
      ],
      "metadata": {
        "id": "sjrcLnXodNL3"
      },
      "execution_count": null,
      "outputs": []
    },
    {
      "cell_type": "code",
      "source": [],
      "metadata": {
        "id": "1gAI9WlsdYyZ"
      },
      "execution_count": null,
      "outputs": []
    },
    {
      "cell_type": "code",
      "source": [],
      "metadata": {
        "id": "fhtJnhItdZkn"
      },
      "execution_count": null,
      "outputs": []
    },
    {
      "cell_type": "markdown",
      "source": [
        "5. Given a list my_list = [1,2,3,4,5]  , write the code to slice the list and obtain the sub-list [2,3] ."
      ],
      "metadata": {
        "id": "nyHVCtsPdaEb"
      }
    },
    {
      "cell_type": "code",
      "source": [
        "my_list = [1, 2, 3, 4, 5]\n",
        "\n",
        "# Slice the list to obtain the sub-list [2, 3]\n",
        "sub_list = my_list[1:3]\n",
        "\n",
        "print(sub_list)"
      ],
      "metadata": {
        "colab": {
          "base_uri": "https://localhost:8080/"
        },
        "id": "YGbMejZZhRBd",
        "outputId": "af5fe876-118b-42e0-e24c-81cf568b910e"
      },
      "execution_count": null,
      "outputs": [
        {
          "output_type": "stream",
          "name": "stdout",
          "text": [
            "[2, 3]\n"
          ]
        }
      ]
    },
    {
      "cell_type": "code",
      "source": [],
      "metadata": {
        "id": "ouYXyPfWhSmz"
      },
      "execution_count": null,
      "outputs": []
    },
    {
      "cell_type": "markdown",
      "source": [
        "6. What is complex number in mathematics , and how is it represent in Python ?"
      ],
      "metadata": {
        "id": "eu4qKgZghUDS"
      }
    },
    {
      "cell_type": "markdown",
      "source": [
        "In mathematics, a complex number is a number that comprises a real part and an imaginary part. It is typically expressed in the form 'a + bi', where 'a' is the real part, 'b' is the imaginary part, and 'i' is the imaginary unit, defined as the square root of -1. Complex numbers are used extensively in various fields of mathematics, engineering, physics, and other sciences.\n",
        "\n",
        "In Python, complex numbers are represented using the built-in complex data type. The syntax for creating a complex number in Python is:"
      ],
      "metadata": {
        "id": "sWCwWD8Mhbn2"
      }
    },
    {
      "cell_type": "code",
      "source": [
        "x = a + bj"
      ],
      "metadata": {
        "id": "ccK88BHUhzXZ"
      },
      "execution_count": null,
      "outputs": []
    },
    {
      "cell_type": "markdown",
      "source": [
        "Here:\n",
        "\n",
        "* 'a' represents the real part.\n",
        "* 'b' represents the imaginary part.\n",
        "* 'j' or 'J' represents the imaginary unit."
      ],
      "metadata": {
        "id": "QQSM8wNKiDot"
      }
    },
    {
      "cell_type": "code",
      "source": [],
      "metadata": {
        "id": "9ECyrgTXiN1O"
      },
      "execution_count": null,
      "outputs": []
    },
    {
      "cell_type": "markdown",
      "source": [
        "7. What is the correct way to declare a variable named age and assign the value 25 to it?"
      ],
      "metadata": {
        "id": "6ld-Ck9uiOW0"
      }
    },
    {
      "cell_type": "code",
      "source": [
        "age = 25\n",
        "age"
      ],
      "metadata": {
        "colab": {
          "base_uri": "https://localhost:8080/"
        },
        "id": "ts-n5HnWiWCd",
        "outputId": "b869df3c-a4a4-45a1-b857-02b93cbf503e"
      },
      "execution_count": null,
      "outputs": [
        {
          "output_type": "execute_result",
          "data": {
            "text/plain": [
              "25"
            ]
          },
          "metadata": {},
          "execution_count": 21
        }
      ]
    },
    {
      "cell_type": "code",
      "source": [],
      "metadata": {
        "id": "o21NyFxticIx"
      },
      "execution_count": null,
      "outputs": []
    },
    {
      "cell_type": "markdown",
      "source": [
        "8. Declare a variable named price and assign the value 9.99 to it . What data type does this variable belong to ?"
      ],
      "metadata": {
        "id": "8CY0PJLvicpF"
      }
    },
    {
      "cell_type": "code",
      "source": [
        "price=99.9\n",
        "price"
      ],
      "metadata": {
        "colab": {
          "base_uri": "https://localhost:8080/"
        },
        "id": "25peLQaFih8Q",
        "outputId": "55758f08-3e94-433a-b3e6-0fbc566936a8"
      },
      "execution_count": null,
      "outputs": [
        {
          "output_type": "execute_result",
          "data": {
            "text/plain": [
              "99.9"
            ]
          },
          "metadata": {},
          "execution_count": 22
        }
      ]
    },
    {
      "cell_type": "code",
      "source": [],
      "metadata": {
        "id": "ge5Ntp2uin_p"
      },
      "execution_count": null,
      "outputs": []
    },
    {
      "cell_type": "markdown",
      "source": [
        "9. Create a variable named name and assign your full name to it as a string . How would you print the value of this variable ?"
      ],
      "metadata": {
        "id": "du34Xvjiiofs"
      }
    },
    {
      "cell_type": "code",
      "source": [
        "name='Divya Rani'\n",
        "print(name)"
      ],
      "metadata": {
        "colab": {
          "base_uri": "https://localhost:8080/"
        },
        "id": "kCTCuBJuiuIf",
        "outputId": "acdacb7f-7e5e-475f-909b-724a95d85e64"
      },
      "execution_count": null,
      "outputs": [
        {
          "output_type": "stream",
          "name": "stdout",
          "text": [
            "Divya Rani\n"
          ]
        }
      ]
    },
    {
      "cell_type": "code",
      "source": [],
      "metadata": {
        "id": "yE9tD0DDjGx7"
      },
      "execution_count": null,
      "outputs": []
    },
    {
      "cell_type": "markdown",
      "source": [
        "10. Given the string  \"Hello , World !\" , extract the substring \"World\" ."
      ],
      "metadata": {
        "id": "OgjlnexljHc6"
      }
    },
    {
      "cell_type": "code",
      "source": [
        "s = \"Hello, World!\"\n",
        "\n",
        "# Extracting the substring \"World\" using string slicing\n",
        "substring = s[7:12]\n",
        "\n",
        "print(substring)"
      ],
      "metadata": {
        "colab": {
          "base_uri": "https://localhost:8080/"
        },
        "id": "dsXYbMOujT_l",
        "outputId": "1b238a09-db3d-4b92-d89e-d3a95b6a05e9"
      },
      "execution_count": null,
      "outputs": [
        {
          "output_type": "stream",
          "name": "stdout",
          "text": [
            "World\n"
          ]
        }
      ]
    },
    {
      "cell_type": "code",
      "source": [],
      "metadata": {
        "id": "zT59sOnDjWjI"
      },
      "execution_count": null,
      "outputs": []
    },
    {
      "cell_type": "markdown",
      "source": [
        "11. Create a variable and named \"is_student\" and assign it a boolean value indicating whether you are currently student or not ."
      ],
      "metadata": {
        "id": "JrCKIJLJjW4z"
      }
    },
    {
      "cell_type": "code",
      "source": [
        "is_student = True\n",
        "is_student"
      ],
      "metadata": {
        "colab": {
          "base_uri": "https://localhost:8080/"
        },
        "id": "4MqCxuzIjm6k",
        "outputId": "3105dfc0-ed06-4975-a467-7eb34ec4ceac"
      },
      "execution_count": null,
      "outputs": [
        {
          "output_type": "execute_result",
          "data": {
            "text/plain": [
              "True"
            ]
          },
          "metadata": {},
          "execution_count": 25
        }
      ]
    }
  ]
}