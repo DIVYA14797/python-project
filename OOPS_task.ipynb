{
  "nbformat": 4,
  "nbformat_minor": 0,
  "metadata": {
    "colab": {
      "provenance": [],
      "authorship_tag": "ABX9TyO+qkQfgf6AwOLm3BoqUhjM",
      "include_colab_link": true
    },
    "kernelspec": {
      "name": "python3",
      "display_name": "Python 3"
    },
    "language_info": {
      "name": "python"
    }
  },
  "cells": [
    {
      "cell_type": "markdown",
      "metadata": {
        "id": "view-in-github",
        "colab_type": "text"
      },
      "source": [
        "<a href=\"https://colab.research.google.com/github/DIVYA14797/python-project/blob/main/OOPS_task.ipynb\" target=\"_parent\"><img src=\"https://colab.research.google.com/assets/colab-badge.svg\" alt=\"Open In Colab\"/></a>"
      ]
    },
    {
      "cell_type": "code",
      "execution_count": null,
      "metadata": {
        "id": "SGt9wflCO2KL"
      },
      "outputs": [],
      "source": []
    },
    {
      "cell_type": "markdown",
      "source": [
        "1. Create a vehicle class  with an init method  how instance variables as name of vehicle ,max_speed and average_of_vehicle .\n",
        "\n"
      ],
      "metadata": {
        "id": "n5tn9N-ZRPea"
      }
    },
    {
      "cell_type": "code",
      "source": [
        "class Vehicle:\n",
        "    def __init__(self, name, max_speed, average_speed):\n",
        "        self.name = name\n",
        "        self.max_speed = max_speed\n",
        "        self.average_speed = average_speed\n",
        "\n",
        "# Example usage:\n",
        "car = Vehicle(\"Toyota Camry\", 180, 60)\n",
        "print(\"Name:\", car.name)\n",
        "print(\"Max Speed:\", car.max_speed)\n",
        "print(\"Average Speed:\", car.average_speed)"
      ],
      "metadata": {
        "colab": {
          "base_uri": "https://localhost:8080/"
        },
        "id": "RZ8AfmXARZZS",
        "outputId": "0de3e3ef-cf55-442b-b173-d0615de31d39"
      },
      "execution_count": null,
      "outputs": [
        {
          "output_type": "stream",
          "name": "stdout",
          "text": [
            "Name: Toyota Camry\n",
            "Max Speed: 180\n",
            "Average Speed: 60\n"
          ]
        }
      ]
    },
    {
      "cell_type": "code",
      "source": [],
      "metadata": {
        "id": "3FIQ_fYCRddN"
      },
      "execution_count": null,
      "outputs": []
    },
    {
      "cell_type": "markdown",
      "source": [
        "2. Create a child class car from the vehicle class created ,which will inherit the vehicle class . Create a method named seating_capacity which take capacity as an argument and returns the name of the vehicle and its seating capacity .\n",
        "\n"
      ],
      "metadata": {
        "id": "-XZRGCGhRTHn"
      }
    },
    {
      "cell_type": "code",
      "source": [
        "class Vehicle:\n",
        "    def __init__(self, name, max_speed, average_speed):\n",
        "        self.name = name\n",
        "        self.max_speed = max_speed\n",
        "        self.average_speed = average_speed\n",
        "\n",
        "class Car(Vehicle):\n",
        "    def seating_capacity(self, capacity):\n",
        "        return f\"{self.name} has a seating capacity of {capacity}.\"\n",
        "\n",
        "# Example usage:\n",
        "car = Car(\"Toyota Camry\", 180, 60)\n",
        "print(car.seating_capacity(5))"
      ],
      "metadata": {
        "colab": {
          "base_uri": "https://localhost:8080/"
        },
        "id": "ZsQMFusCS-Ih",
        "outputId": "b3342fa2-a2ec-4428-8a4b-6d3a07b28c1e"
      },
      "execution_count": null,
      "outputs": [
        {
          "output_type": "stream",
          "name": "stdout",
          "text": [
            "Toyota Camry has a seating capacity of 5.\n"
          ]
        }
      ]
    },
    {
      "cell_type": "code",
      "source": [],
      "metadata": {
        "id": "tQqJUxNWTDyC"
      },
      "execution_count": null,
      "outputs": []
    },
    {
      "cell_type": "code",
      "source": [],
      "metadata": {
        "id": "w--6Oox6TJad"
      },
      "execution_count": null,
      "outputs": []
    },
    {
      "cell_type": "markdown",
      "source": [
        "3. What is multiple inheritance write a python code to demonstrate multiple inheritance ."
      ],
      "metadata": {
        "id": "G1e6pDIdTKsr"
      }
    },
    {
      "cell_type": "markdown",
      "source": [
        "Multiple inheritance in Python refers to the ability of a class to inherit attributes and methods from more than one parent class. This means a child class can inherit from multiple parent classes.\n",
        "\n",
        "Here's an example demonstrating multiple inheritance:\n",
        "\n"
      ],
      "metadata": {
        "id": "4AW-GHpgTXFv"
      }
    },
    {
      "cell_type": "code",
      "source": [
        "class A:\n",
        "    def method_A(self):\n",
        "        print(\"Method from class A\")\n",
        "\n",
        "class B:\n",
        "    def method_B(self):\n",
        "        print(\"Method from class B\")\n",
        "\n",
        "class C(A, B):\n",
        "    def method_C(self):\n",
        "        print(\"Method from class C\")\n",
        "\n",
        "# Create an instance of class C\n",
        "obj_C = C()\n",
        "\n",
        "# Accessing methods from class A\n",
        "obj_C.method_A()\n",
        "\n",
        "# Accessing methods from class B\n",
        "obj_C.method_B()\n",
        "\n",
        "# Accessing method from class C\n",
        "obj_C.method_C()"
      ],
      "metadata": {
        "colab": {
          "base_uri": "https://localhost:8080/"
        },
        "id": "PUtoTpGkTYXg",
        "outputId": "e105007b-6733-4ec8-9b13-c2ab6579adfa"
      },
      "execution_count": null,
      "outputs": [
        {
          "output_type": "stream",
          "name": "stdout",
          "text": [
            "Method from class A\n",
            "Method from class B\n",
            "Method from class C\n"
          ]
        }
      ]
    },
    {
      "cell_type": "code",
      "source": [],
      "metadata": {
        "id": "-gBWmH3gTez5"
      },
      "execution_count": null,
      "outputs": []
    },
    {
      "cell_type": "markdown",
      "source": [
        "4. What are gtter and setter in python ? Create a class and create a greater and a setter method in this class ."
      ],
      "metadata": {
        "id": "Yp60qTPHTfLu"
      }
    },
    {
      "cell_type": "markdown",
      "source": [
        "In Python, getter and setter methods are used to encapsulate access to instance variables of a class. They are used to control the access and modification of these variables, allowing for better control over the class's data.\n",
        "\n",
        "Getter methods are used to get the value of an instance variable, while setter methods are used to set or modify the value of an instance variable.\n",
        "\n",
        "Here's how you can create a class with getter and setter methods in Python:"
      ],
      "metadata": {
        "id": "CRIEeFaiTnJO"
      }
    },
    {
      "cell_type": "code",
      "source": [
        "class MyClass:\n",
        "    def __init__(self):\n",
        "        self._value = None  # Initialize the instance variable with None\n",
        "\n",
        "    # Getter method to get the value of the instance variable\n",
        "    def get_value(self):\n",
        "        return self._value\n",
        "\n",
        "    # Setter method to set the value of the instance variable\n",
        "    def set_value(self, new_value):\n",
        "        self._value = new_value\n",
        "\n",
        "# Create an instance of MyClass\n",
        "obj = MyClass()\n",
        "\n",
        "# Set the value using the setter method\n",
        "obj.set_value(10)\n",
        "\n",
        "# Get the value using the getter method\n",
        "print(\"Value:\", obj.get_value())"
      ],
      "metadata": {
        "colab": {
          "base_uri": "https://localhost:8080/"
        },
        "id": "MwRpZtnbTvLR",
        "outputId": "a7694fa0-fbce-4f75-c897-c2eb8a1e50ca"
      },
      "execution_count": null,
      "outputs": [
        {
          "output_type": "stream",
          "name": "stdout",
          "text": [
            "Value: 10\n"
          ]
        }
      ]
    },
    {
      "cell_type": "code",
      "source": [],
      "metadata": {
        "id": "7dmg_v1NT-B1"
      },
      "execution_count": null,
      "outputs": []
    },
    {
      "cell_type": "markdown",
      "source": [
        "5. What is method overriding in python ? Write a python code to demonstrate method overriding ."
      ],
      "metadata": {
        "id": "xhzbmjGgUBJc"
      }
    },
    {
      "cell_type": "markdown",
      "source": [
        "Method overriding in Python refers to the ability of a subclass to provide a specific implementation of a method that is already defined in its superclass. When a method in a subclass has the same name and signature as a method in its superclass, the method in the subclass overrides the method in the superclass.\n",
        "\n",
        "Here's an example demonstrating method overriding in Python:"
      ],
      "metadata": {
        "id": "Jno1jWdjUIyz"
      }
    },
    {
      "cell_type": "code",
      "source": [
        "class Animal:\n",
        "    def make_sound(self):\n",
        "        print(\"Generic animal sound\")\n",
        "\n",
        "class Dog(Animal):\n",
        "    def make_sound(self):\n",
        "        print(\"Bark\")\n",
        "\n",
        "class Cat(Animal):\n",
        "    def make_sound(self):\n",
        "        print(\"Meow\")\n",
        "\n",
        "# Create instances of Dog and Cat\n",
        "dog = Dog()\n",
        "cat = Cat()\n",
        "\n",
        "# Call make_sound method for each instance\n",
        "dog.make_sound()  # This will print \"Bark\"\n",
        "cat.make_sound()  # This will print \"Meow\""
      ],
      "metadata": {
        "colab": {
          "base_uri": "https://localhost:8080/"
        },
        "id": "bhs9RoYtUP9W",
        "outputId": "4f68dad2-6f0e-42ae-b477-7162bc462338"
      },
      "execution_count": null,
      "outputs": [
        {
          "output_type": "stream",
          "name": "stdout",
          "text": [
            "Bark\n",
            "Meow\n"
          ]
        }
      ]
    },
    {
      "cell_type": "code",
      "source": [],
      "metadata": {
        "id": "qRwwT_fcUaux"
      },
      "execution_count": null,
      "outputs": []
    }
  ]
}