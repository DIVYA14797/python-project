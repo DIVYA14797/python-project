{
  "nbformat": 4,
  "nbformat_minor": 0,
  "metadata": {
    "colab": {
      "provenance": [],
      "authorship_tag": "ABX9TyOalQ9luVJmEoEzpFLSUNhr",
      "include_colab_link": true
    },
    "kernelspec": {
      "name": "python3",
      "display_name": "Python 3"
    },
    "language_info": {
      "name": "python"
    }
  },
  "cells": [
    {
      "cell_type": "markdown",
      "metadata": {
        "id": "view-in-github",
        "colab_type": "text"
      },
      "source": [
        "<a href=\"https://colab.research.google.com/github/DIVYA14797/python-project/blob/main/Multiprocessing.ipynb\" target=\"_parent\"><img src=\"https://colab.research.google.com/assets/colab-badge.svg\" alt=\"Open In Colab\"/></a>"
      ]
    },
    {
      "cell_type": "code",
      "execution_count": null,
      "metadata": {
        "id": "y3zOeQDW1r5L"
      },
      "outputs": [],
      "source": []
    },
    {
      "cell_type": "markdown",
      "source": [
        "1. What is multiprocessing in python ? Why is it useful  ?"
      ],
      "metadata": {
        "id": "gaLtVgsw4NiQ"
      }
    },
    {
      "cell_type": "markdown",
      "source": [
        "Multiprocessing in Python refers to the ability of Python to create and manage multiple processes simultaneously. It is a technique used to execute multiple tasks or processes concurrently, taking advantage of multiple CPU cores available on modern computers. The multiprocessing module in Python provides support for creating and managing processes, allowing you to parallelize your code and make efficient use of available resources.\n",
        "\n",
        "Here are some key points about multiprocessing and its usefulness:\n",
        "\n",
        "1. Concurrency: Multiprocessing allows you to execute multiple tasks concurrently, making your programs more responsive and efficient. Instead of executing tasks sequentially, multiprocessing enables you to perform multiple tasks simultaneously, thereby reducing overall execution time.\n",
        "\n",
        "2. Utilizing Multiple CPU Cores: With the proliferation of multi-core CPUs, multiprocessing enables you to leverage the computational power of these CPUs by distributing tasks across multiple processes. Each process runs independently and can utilize a separate CPU core, leading to improved performance and faster execution times.\n",
        "\n",
        "3. Parallelism: Multiprocessing facilitates parallelism, which is the simultaneous execution of multiple tasks or processes. By parallelizing your code, you can divide complex tasks into smaller, independent units of work that can be executed concurrently. This can lead to significant performance gains, especially for CPU-bound tasks.\n",
        "\n",
        "4. Isolation: Each process created using multiprocessing has its own memory space and resources, providing a level of isolation between processes. This isolation helps prevent interference and ensures that changes made by one process do not affect other processes.\n",
        "\n",
        "5. Fault Tolerance: Multiprocessing can improve the fault tolerance of your applications by isolating processes from each other. If one process encounters an error or crashes, it typically does not affect other processes, allowing your application to continue running smoothly.\n",
        "\n",
        "6. Scalability: Multiprocessing allows your applications to scale across multiple CPU cores, making it suitable for handling computationally intensive tasks and large-scale data processing."
      ],
      "metadata": {
        "id": "JOBjDDGa4P1Y"
      }
    },
    {
      "cell_type": "code",
      "source": [],
      "metadata": {
        "id": "jGi-BTjy4gwb"
      },
      "execution_count": null,
      "outputs": []
    },
    {
      "cell_type": "markdown",
      "source": [
        "2. What are the difference between multiprocessing and multihreading ?"
      ],
      "metadata": {
        "id": "TOlZKzy74hKo"
      }
    },
    {
      "cell_type": "markdown",
      "source": [
        "Multiprocessing and multithreading are both techniques used to achieve concurrency in Python, but they differ in several key aspects. Here are the main differences between multiprocessing and multithreading:\n",
        "\n",
        "1. Execution Model:\n",
        "\n",
        "* Multiprocessing involves the execution of multiple processes simultaneously. Each process has its own memory space and resources, and they communicate with each other using inter-process communication mechanisms.\n",
        "* Multithreading, on the other hand, involves the execution of multiple threads within the same process. Threads share the same memory space and resources, and they can communicate with each other directly by sharing data.\n",
        "\n",
        "2. Concurrency vs. Parallelism:\n",
        "\n",
        "* Multiprocessing achieves parallelism by executing multiple processes simultaneously, typically on different CPU cores. Each process runs independently and can perform different tasks concurrently.\n",
        "* Multithreading achieves concurrency by allowing multiple threads to execute within the same process. Threads share the CPU time and execute concurrently, but they may not run simultaneously on multiple CPU cores unless the Python Global Interpreter Lock (GIL) is released.\n",
        "\n",
        "3. Resource Isolation:\n",
        "\n",
        "* Multiprocessing provides a higher level of resource isolation since each process has its own memory space and resources. This isolation helps prevent interference and ensures that changes made by one process do not affect other processes.\n",
        "* Multithreading shares the same memory space and resources within a process, which can lead to potential issues such as race conditions, deadlocks, and data corruption if not properly synchronized.\n",
        "\n",
        "4. Overhead:\n",
        "\n",
        "* Multiprocessing typically incurs more overhead compared to multithreading because it involves the creation of separate processes, which require additional memory and resources.\n",
        "* Multithreading incurs less overhead since threads within the same process share the same memory space and resources. However, synchronization mechanisms such as locks and mutexes are needed to prevent data corruption and ensure thread safety.\n",
        "\n",
        "5. Use Cases:\n",
        "\n",
        "* Multiprocessing is well-suited for CPU-bound tasks, such as numerical computations, data processing, and simulations, where parallel execution can lead to significant performance improvements.\n",
        "* Multithreading is suitable for I/O-bound tasks, such as network communication, file I/O, and GUI applications, where threads can perform non-blocking operations and improve responsiveness."
      ],
      "metadata": {
        "id": "cmuyjfwu4l79"
      }
    },
    {
      "cell_type": "code",
      "source": [],
      "metadata": {
        "id": "MWp9YmP34-N5"
      },
      "execution_count": null,
      "outputs": []
    },
    {
      "cell_type": "markdown",
      "source": [
        "3. Write a python code to create a process using the multiprocessing module ."
      ],
      "metadata": {
        "id": "9ViqTAGp4-fp"
      }
    },
    {
      "cell_type": "code",
      "source": [
        "import multiprocessing\n",
        "import os\n",
        "\n",
        "# Define a function that will be executed by the process\n",
        "def worker():\n",
        "    print(\"Worker process ID:\", os.getpid())\n",
        "\n",
        "if __name__ == \"__main__\":\n",
        "    # Create a multiprocessing Process object\n",
        "    process = multiprocessing.Process(target=worker)\n",
        "\n",
        "    # Start the process\n",
        "    process.start()\n",
        "\n",
        "    # Wait for the process to finish\n",
        "    process.join()\n",
        "\n",
        "    print(\"Main process ID:\", os.getpid())"
      ],
      "metadata": {
        "colab": {
          "base_uri": "https://localhost:8080/"
        },
        "id": "IXTRly4C5D9_",
        "outputId": "02ee10d5-f5b0-48b7-e858-dec459abed06"
      },
      "execution_count": null,
      "outputs": [
        {
          "output_type": "stream",
          "name": "stdout",
          "text": [
            "Worker process ID: 338\n",
            "Main process ID: 246\n"
          ]
        }
      ]
    },
    {
      "cell_type": "code",
      "source": [],
      "metadata": {
        "id": "21NS6g0F5IK8"
      },
      "execution_count": null,
      "outputs": []
    },
    {
      "cell_type": "markdown",
      "source": [
        "4. What is a multiprocessing pool in python ? Why is it used ?"
      ],
      "metadata": {
        "id": "oQb9m1P15Ihi"
      }
    },
    {
      "cell_type": "markdown",
      "source": [
        "A multiprocessing pool in Python is a high-level abstraction provided by the multiprocessing module for parallelizing the execution of tasks across multiple processes. It manages a pool of worker processes, distributing tasks to these processes and collecting the results asynchronously.\n",
        "\n",
        "Multiprocessing pools are used for several reasons:\n",
        "\n",
        "* Parallelism: Multiprocessing pools allow you to parallelize the execution of tasks across multiple processes, taking advantage of multiple CPU cores available on modern computers. This can lead to significant performance improvements, especially for CPU-bound tasks.\n",
        "\n",
        "* Convenience: Pools provide a high-level interface for parallelizing tasks, making it easy to distribute tasks across multiple processes and collect results asynchronously. You don't need to manage the creation and coordination of individual worker processes manually.\n",
        "\n",
        "* Scalability: Pools can scale to handle a large number of tasks efficiently. They manage the creation and recycling of worker processes, ensuring optimal resource utilization and performance.\n",
        "\n",
        "* Fault Tolerance: Pools provide fault tolerance by isolating tasks within individual worker processes. If one worker process encounters an error or crashes, it typically does not affect other processes in the pool, allowing the remaining processes to continue executing tasks."
      ],
      "metadata": {
        "id": "gvIhAIPQ5Qp7"
      }
    },
    {
      "cell_type": "code",
      "source": [],
      "metadata": {
        "id": "vtzHAEXP5m1w"
      },
      "execution_count": null,
      "outputs": []
    },
    {
      "cell_type": "markdown",
      "source": [
        "5. How can we create a pool of worker processes in python using the multiprocessing module ?\n",
        "\n"
      ],
      "metadata": {
        "id": "CgyKAwWg5nLK"
      }
    },
    {
      "cell_type": "code",
      "source": [
        "import multiprocessing\n",
        "import os\n",
        "\n",
        "# Define a function that will be executed by the worker processes\n",
        "def worker_task(x):\n",
        "    process_id = os.getpid()\n",
        "    result = x * x\n",
        "    return (process_id, result)\n",
        "\n",
        "if __name__ == \"__main__\":\n",
        "    # Create a multiprocessing Pool with 4 worker processes\n",
        "    pool = multiprocessing.Pool(processes=4)\n",
        "\n",
        "    # Define a list of input values\n",
        "    input_values = [1, 2, 3, 4, 5]\n",
        "\n",
        "    # Map the worker_task function to the input values using the Pool\n",
        "    results = pool.map(worker_task, input_values)\n",
        "\n",
        "    # Close the pool to prevent any more tasks from being submitted\n",
        "    pool.close()\n",
        "\n",
        "    # Wait for all processes in the pool to finish\n",
        "    pool.join()\n",
        "\n",
        "    # Print the results\n",
        "    print(\"Results:\", results)"
      ],
      "metadata": {
        "colab": {
          "base_uri": "https://localhost:8080/"
        },
        "id": "ohLh1Yar5t-4",
        "outputId": "6bb14831-f5eb-44e2-af6a-0a6f069d21cb"
      },
      "execution_count": null,
      "outputs": [
        {
          "output_type": "stream",
          "name": "stdout",
          "text": [
            "Results: [(986, 1), (989, 4), (986, 9), (986, 16), (986, 25)]\n"
          ]
        }
      ]
    },
    {
      "cell_type": "code",
      "source": [],
      "metadata": {
        "id": "MfF7FeM45yc1"
      },
      "execution_count": null,
      "outputs": []
    },
    {
      "cell_type": "markdown",
      "source": [
        "6. Write a python program to create 4 processes , each process should print a different number using the multiprocessing module in python .\n",
        "\n"
      ],
      "metadata": {
        "id": "sFXD-JVg5ywM"
      }
    },
    {
      "cell_type": "code",
      "source": [
        "import multiprocessing\n",
        "\n",
        "# Define a function that prints a number\n",
        "def print_number(number):\n",
        "    print(\"Process ID:\", multiprocessing.current_process().pid, \"- Number:\", number)\n",
        "\n",
        "if __name__ == \"__main__\":\n",
        "    # Create 4 processes\n",
        "    processes = []\n",
        "    for i in range(1, 5):\n",
        "        process = multiprocessing.Process(target=print_number, args=(i,))\n",
        "        processes.append(process)\n",
        "        process.start()\n",
        "\n",
        "    # Wait for all processes to finish\n",
        "    for process in processes:\n",
        "        process.join()"
      ],
      "metadata": {
        "id": "h01PjX3H53_G",
        "outputId": "da842b8a-6f3d-48d3-a9bf-c713e4a338f4",
        "colab": {
          "base_uri": "https://localhost:8080/"
        }
      },
      "execution_count": null,
      "outputs": [
        {
          "output_type": "stream",
          "name": "stdout",
          "text": [
            "Process ID: Process ID:Process ID: 1137 1143  Process ID:- Number:1139- Number:    - Number:131148 \n",
            "\n",
            " 2- Number: \n",
            "4\n"
          ]
        }
      ]
    },
    {
      "cell_type": "code",
      "source": [],
      "metadata": {
        "id": "vP2m4jdq59D1"
      },
      "execution_count": null,
      "outputs": []
    }
  ]
}