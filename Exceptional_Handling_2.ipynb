{
  "nbformat": 4,
  "nbformat_minor": 0,
  "metadata": {
    "colab": {
      "provenance": [],
      "authorship_tag": "ABX9TyMGIGmuNDAf0iqzc1ysD6Yq",
      "include_colab_link": true
    },
    "kernelspec": {
      "name": "python3",
      "display_name": "Python 3"
    },
    "language_info": {
      "name": "python"
    }
  },
  "cells": [
    {
      "cell_type": "markdown",
      "metadata": {
        "id": "view-in-github",
        "colab_type": "text"
      },
      "source": [
        "<a href=\"https://colab.research.google.com/github/DIVYA14797/python-project/blob/main/Exceptional_Handling_2.ipynb\" target=\"_parent\"><img src=\"https://colab.research.google.com/assets/colab-badge.svg\" alt=\"Open In Colab\"/></a>"
      ]
    },
    {
      "cell_type": "code",
      "execution_count": null,
      "metadata": {
        "id": "mHmh-0oOWvhT"
      },
      "outputs": [],
      "source": []
    },
    {
      "cell_type": "markdown",
      "source": [
        "1. Explain why we have to use the exception class which creating  a custom exception\n",
        "\n"
      ],
      "metadata": {
        "id": "8u81tDXGYPIY"
      }
    },
    {
      "cell_type": "markdown",
      "source": [
        "When creating custom exceptions in Python, it's essential to derive them from the base 'Exception' class or one of its subclasses. Here's why it's important:\n",
        "\n",
        "1. Consistency and Clarity: By inheriting from the 'Exception' class or its subclasses, you make your custom exceptions consistent with the built-in exceptions provided by Python. This ensures clarity and consistency in your codebase, making it easier for other developers to understand and handle exceptions raised by your code.\n",
        "\n",
        "2. Error Hierarchy: Python's exception hierarchy allows for categorizing exceptions based on their types and relationships. Deriving custom exceptions from appropriate base classes allows you to organize your exceptions hierarchically, providing a clear structure for handling different types of errors in your code.\n",
        "\n",
        "3. Exception Handling: In Python, exceptions are caught using the 'try' and 'except' blocks. When handling exceptions, Python checks if the caught exception is an instance of the specified exception class or one of its subclasses. By inheriting from the 'Exception' class, your custom exceptions can be caught using generic 'except' blocks, or more specific ones if necessary, facilitating precise exception handling.\n",
        "\n",
        "4. Code Readability and Maintainability: Creating custom exceptions with meaningful names and clear semantics improves the readability and maintainability of your code. Custom exceptions provide descriptive error messages that convey the nature of the error, making it easier to diagnose and troubleshoot issues in your codebase.\n",
        "\n",
        "5. Integration with Third-party Libraries: Many third-party libraries and frameworks in Python rely on the standard exception hierarchy to handle errors and exceptions. By conforming to this hierarchy and using the built-in exception classes, your custom exceptions can seamlessly integrate with these libraries, ensuring compatibility and interoperability."
      ],
      "metadata": {
        "id": "GhBeepnsYRV8"
      }
    },
    {
      "cell_type": "code",
      "source": [],
      "metadata": {
        "id": "swDxypCuZlLA"
      },
      "execution_count": null,
      "outputs": []
    },
    {
      "cell_type": "markdown",
      "source": [
        "2. Write a python program to  print python Exception Hierarchy .\n",
        "\n"
      ],
      "metadata": {
        "id": "dG2C4royZlh9"
      }
    },
    {
      "cell_type": "markdown",
      "source": [
        "We can use the '__mro__' attribute to print the Python Exception Hierarchy. Here's a Python program to do that:"
      ],
      "metadata": {
        "id": "fBlo-CcGaJxC"
      }
    },
    {
      "cell_type": "code",
      "source": [
        "def print_exception_hierarchy(exception_class):\n",
        "    print(f\"Exception Hierarchy for {exception_class.__name__}:\")\n",
        "    for cls in exception_class.mro():\n",
        "        print(cls.__name__)\n",
        "\n",
        "\n",
        "# Print Python Exception Hierarchy\n",
        "print_exception_hierarchy(Exception)"
      ],
      "metadata": {
        "colab": {
          "base_uri": "https://localhost:8080/"
        },
        "id": "NzKksCQxaPU5",
        "outputId": "7972f4f0-643a-4eca-e9fc-1f18fa7fc7d6"
      },
      "execution_count": null,
      "outputs": [
        {
          "output_type": "stream",
          "name": "stdout",
          "text": [
            "Exception Hierarchy for Exception:\n",
            "Exception\n",
            "BaseException\n",
            "object\n"
          ]
        }
      ]
    },
    {
      "cell_type": "code",
      "source": [],
      "metadata": {
        "id": "uPxWFiWbaW-z"
      },
      "execution_count": null,
      "outputs": []
    },
    {
      "cell_type": "markdown",
      "source": [
        "3. What errors are defined in the Arithmetical Error class ? Explain any two with an example ."
      ],
      "metadata": {
        "id": "uFuI0mdXa2R-"
      }
    },
    {
      "cell_type": "markdown",
      "source": [
        "In Python, the 'ArithmeticError' class is a base class for arithmetic errors. It serves as the parent class for specific arithmetic-related exception classes. Some common errors defined in the 'ArithmeticError' class include:\n",
        "\n",
        "1. OverflowError: Raised when an arithmetic operation exceeds the limits of the data type being used, resulting in an overflow.\n",
        "\n",
        "2. ZeroDivisionError: Raised when attempting to divide by zero.\n",
        "\n",
        "Let's explain these two errors with examples:\n",
        "\n",
        "1. OverflowError:\n",
        "This error occurs when an arithmetic operation results in a value that is too large to be represented within the available memory space for the data type being used. For example:"
      ],
      "metadata": {
        "id": "yqQT0Owfa87i"
      }
    },
    {
      "cell_type": "code",
      "source": [
        "x = 10 ** 1000  # Attempting to calculate 10 to the power of 1000\n"
      ],
      "metadata": {
        "id": "FIN3tIYMbZva"
      },
      "execution_count": null,
      "outputs": []
    },
    {
      "cell_type": "markdown",
      "source": [
        "In this example, Python will raise an 'OverflowError' because the result of '10 ** 1000' exceeds the maximum value that can be represented by the integer data type."
      ],
      "metadata": {
        "id": "vQebaZbSbomt"
      }
    },
    {
      "cell_type": "markdown",
      "source": [
        "2. ZeroDivisionError:\n",
        "This error occurs when attempting to divide a number by zero. Division by zero is undefined in mathematics and is not allowed in Python. For example:"
      ],
      "metadata": {
        "id": "Pu3uFoktb0Eo"
      }
    },
    {
      "cell_type": "code",
      "source": [
        "x = 10 / 0  # Attempting to divide 10 by 0"
      ],
      "metadata": {
        "id": "S-S9QIIXcABT"
      },
      "execution_count": null,
      "outputs": []
    },
    {
      "cell_type": "markdown",
      "source": [
        "In this example, Python will raise a 'ZeroDivisionError' because division by zero is not permitted. To avoid this error, you should ensure that denominators in division operations are not zero before performing the division."
      ],
      "metadata": {
        "id": "z894UD0ccQl0"
      }
    },
    {
      "cell_type": "code",
      "source": [],
      "metadata": {
        "id": "c87KaIZlcifb"
      },
      "execution_count": null,
      "outputs": []
    },
    {
      "cell_type": "markdown",
      "source": [
        "4. Why Lookup Error class is used ? Explain with an example key Error and Index Error ."
      ],
      "metadata": {
        "id": "76FkKCfPcj48"
      }
    },
    {
      "cell_type": "markdown",
      "source": [
        "The 'LookupError' class in Python is a base class for errors that occur when a key or index used to access a collection (such as a dictionary, list, or tuple) is invalid or not found. It serves as the parent class for more specific lookup-related exception classes like 'KeyError' and 'IndexError'.\n",
        "\n",
        "Here's an explanation of 'KeyError' and 'IndexError' along with examples:\n",
        "\n",
        "1. KeyError:\n",
        "\n",
        "* 'KeyError' is raised when attempting to access a dictionary with a key that does not exist.\n",
        "* Example:"
      ],
      "metadata": {
        "id": "nOO9Hjn6ddEG"
      }
    },
    {
      "cell_type": "code",
      "source": [
        "my_dict = {'a': 1, 'b': 2, 'c': 3}\n",
        "print(my_dict['d'])  # Attempting to access key 'd' which does not exist"
      ],
      "metadata": {
        "colab": {
          "base_uri": "https://localhost:8080/",
          "height": 164
        },
        "id": "20MEjzYee5Uw",
        "outputId": "df22704c-8bdf-449d-97a0-aa2725cbb147"
      },
      "execution_count": null,
      "outputs": [
        {
          "output_type": "error",
          "ename": "KeyError",
          "evalue": "'d'",
          "traceback": [
            "\u001b[0;31m---------------------------------------------------------------------------\u001b[0m",
            "\u001b[0;31mKeyError\u001b[0m                                  Traceback (most recent call last)",
            "\u001b[0;32m<ipython-input-6-a364b08811f5>\u001b[0m in \u001b[0;36m<cell line: 2>\u001b[0;34m()\u001b[0m\n\u001b[1;32m      1\u001b[0m \u001b[0mmy_dict\u001b[0m \u001b[0;34m=\u001b[0m \u001b[0;34m{\u001b[0m\u001b[0;34m'a'\u001b[0m\u001b[0;34m:\u001b[0m \u001b[0;36m1\u001b[0m\u001b[0;34m,\u001b[0m \u001b[0;34m'b'\u001b[0m\u001b[0;34m:\u001b[0m \u001b[0;36m2\u001b[0m\u001b[0;34m,\u001b[0m \u001b[0;34m'c'\u001b[0m\u001b[0;34m:\u001b[0m \u001b[0;36m3\u001b[0m\u001b[0;34m}\u001b[0m\u001b[0;34m\u001b[0m\u001b[0;34m\u001b[0m\u001b[0m\n\u001b[0;32m----> 2\u001b[0;31m \u001b[0mprint\u001b[0m\u001b[0;34m(\u001b[0m\u001b[0mmy_dict\u001b[0m\u001b[0;34m[\u001b[0m\u001b[0;34m'd'\u001b[0m\u001b[0;34m]\u001b[0m\u001b[0;34m)\u001b[0m  \u001b[0;31m# Attempting to access key 'd' which does not exist\u001b[0m\u001b[0;34m\u001b[0m\u001b[0;34m\u001b[0m\u001b[0m\n\u001b[0m",
            "\u001b[0;31mKeyError\u001b[0m: 'd'"
          ]
        }
      ]
    },
    {
      "cell_type": "markdown",
      "source": [
        "In this example, attempting to access the key 'd' in the dictionary my_dict raises a 'KeyError' because the key 'd' does not exist in the dictionary."
      ],
      "metadata": {
        "id": "opefMbv7fO9F"
      }
    },
    {
      "cell_type": "markdown",
      "source": [
        "2. IndexError:\n",
        "\n",
        "* 'IndexError' is raised when attempting to access an index that is out of range in a sequence such as a list or tuple.\n",
        "* Example:"
      ],
      "metadata": {
        "id": "JMkSxyIqfnRd"
      }
    },
    {
      "cell_type": "code",
      "source": [
        "my_list = [1, 2, 3, 4, 5]\n",
        "print(my_list[5])  # Attempting to access index 5 which is out of range"
      ],
      "metadata": {
        "colab": {
          "base_uri": "https://localhost:8080/",
          "height": 164
        },
        "id": "aLDahvUOfjBJ",
        "outputId": "72183102-5819-49b3-9672-9b955018ca3d"
      },
      "execution_count": null,
      "outputs": [
        {
          "output_type": "error",
          "ename": "IndexError",
          "evalue": "list index out of range",
          "traceback": [
            "\u001b[0;31m---------------------------------------------------------------------------\u001b[0m",
            "\u001b[0;31mIndexError\u001b[0m                                Traceback (most recent call last)",
            "\u001b[0;32m<ipython-input-7-19ec22d040bd>\u001b[0m in \u001b[0;36m<cell line: 2>\u001b[0;34m()\u001b[0m\n\u001b[1;32m      1\u001b[0m \u001b[0mmy_list\u001b[0m \u001b[0;34m=\u001b[0m \u001b[0;34m[\u001b[0m\u001b[0;36m1\u001b[0m\u001b[0;34m,\u001b[0m \u001b[0;36m2\u001b[0m\u001b[0;34m,\u001b[0m \u001b[0;36m3\u001b[0m\u001b[0;34m,\u001b[0m \u001b[0;36m4\u001b[0m\u001b[0;34m,\u001b[0m \u001b[0;36m5\u001b[0m\u001b[0;34m]\u001b[0m\u001b[0;34m\u001b[0m\u001b[0;34m\u001b[0m\u001b[0m\n\u001b[0;32m----> 2\u001b[0;31m \u001b[0mprint\u001b[0m\u001b[0;34m(\u001b[0m\u001b[0mmy_list\u001b[0m\u001b[0;34m[\u001b[0m\u001b[0;36m5\u001b[0m\u001b[0;34m]\u001b[0m\u001b[0;34m)\u001b[0m  \u001b[0;31m# Attempting to access index 5 which is out of range\u001b[0m\u001b[0;34m\u001b[0m\u001b[0;34m\u001b[0m\u001b[0m\n\u001b[0m",
            "\u001b[0;31mIndexError\u001b[0m: list index out of range"
          ]
        }
      ]
    },
    {
      "cell_type": "markdown",
      "source": [
        "In this example, attempting to access the index '5' in the list my_list raises an 'IndexError' because the list has only indices '0' through '4', and index '5' is out of range."
      ],
      "metadata": {
        "id": "Bh6w1I_vf7Zf"
      }
    },
    {
      "cell_type": "code",
      "source": [],
      "metadata": {
        "id": "Q0YLM3vkgLSO"
      },
      "execution_count": null,
      "outputs": []
    },
    {
      "cell_type": "markdown",
      "source": [
        "5. Explain Import Error . What is ModuleNotFound Error ?\n",
        "\n"
      ],
      "metadata": {
        "id": "hPy88MplgLsT"
      }
    },
    {
      "cell_type": "markdown",
      "source": [
        "1. ImportError:\n",
        "\n",
        "* ImportError is a base class for exceptions raised when an import statement fails to find or load the requested module.\n",
        "\n",
        "* This exception can occur for various reasons, such as:\n",
        "\n",
        " * The module doesn't exist.\n",
        "The module is not installed or not available in the current Python environment.\n",
        " * There is a syntax error or other issue in the module being imported.\n",
        "* Example:"
      ],
      "metadata": {
        "id": "NzXfAdzsg3I9"
      }
    },
    {
      "cell_type": "code",
      "source": [
        "try:\n",
        "    import non_existent_module\n",
        "except ImportError as e:\n",
        "    print(\"Error:\", e)"
      ],
      "metadata": {
        "colab": {
          "base_uri": "https://localhost:8080/"
        },
        "id": "ALTiRt39hJvJ",
        "outputId": "4bf33eea-3fd2-44b8-c707-9b43ef54fd39"
      },
      "execution_count": null,
      "outputs": [
        {
          "output_type": "stream",
          "name": "stdout",
          "text": [
            "Error: No module named 'non_existent_module'\n"
          ]
        }
      ]
    },
    {
      "cell_type": "markdown",
      "source": [
        "2. ModuleNotFoundError:\n",
        "\n",
        "* ModuleNotFoundError is a subclass of ImportError introduced in Python 3.6. It specifically indicates that the requested module could not be found.\n",
        "\n",
        "* This exception is raised when Python cannot locate the module specified in the import statement.\n",
        "\n",
        "* Example:"
      ],
      "metadata": {
        "id": "u12W10iMhTuz"
      }
    },
    {
      "cell_type": "code",
      "source": [
        "try:\n",
        "    import non_existent_module\n",
        "except ModuleNotFoundError as e:\n",
        "    print(\"Error:\", e)"
      ],
      "metadata": {
        "colab": {
          "base_uri": "https://localhost:8080/"
        },
        "id": "6Al5muhthfy6",
        "outputId": "3c9b1699-d59c-4c2d-c731-b68a8c8d599d"
      },
      "execution_count": null,
      "outputs": [
        {
          "output_type": "stream",
          "name": "stdout",
          "text": [
            "Error: No module named 'non_existent_module'\n"
          ]
        }
      ]
    },
    {
      "cell_type": "code",
      "source": [],
      "metadata": {
        "id": "Rgm6YyvqhuSB"
      },
      "execution_count": null,
      "outputs": []
    },
    {
      "cell_type": "markdown",
      "source": [
        "6. List down some best  practices for exception handling in python ."
      ],
      "metadata": {
        "id": "RBKSzDMdhuu4"
      }
    },
    {
      "cell_type": "markdown",
      "source": [
        "Exception handling is an essential aspect of writing robust and reliable Python code. Here are some best practices for exception handling in Python:\n",
        "\n",
        "1. Use Specific Exceptions: Catch specific exceptions rather than broad ones. This helps to handle errors more precisely and avoids masking unexpected issues. For example, instead of catching Exception, catch more specific exceptions like ValueError, TypeError, etc.\n",
        "\n",
        "2. Use Try-Except Blocks: Wrap the code that might raise an exception in a try-except block. This allows you to catch and handle exceptions gracefully without crashing the program. Handle exceptions that you expect might occur.\n",
        "\n",
        "3. Keep Except Blocks Minimal: Keep the code inside except blocks minimal and focused on handling the exception. Avoid writing too much logic inside an except block, as it can make the code harder to understand and maintain.\n",
        "\n",
        "4. Handle Exceptions Appropriately: Handle exceptions appropriately based on the context and requirements of your application. This might involve logging the error, displaying a user-friendly error message, retrying the operation, or taking corrective action.\n",
        "\n",
        "5. Use Finally Blocks for Cleanup: Use finally blocks to ensure that cleanup code (such as closing files or releasing resources) is executed regardless of whether an exception occurs. This helps to maintain the integrity of the program's state.\n",
        "\n",
        "6. Avoid Bare Except Clauses: Avoid using bare except clauses without specifying the exception type. This can catch unexpected exceptions and mask programming errors. Instead, catch specific exceptions or use except Exception as e to catch all exceptions and inspect them if necessary.\n",
        "\n",
        "7. Handle Exceptions at the Right Level: Handle exceptions at an appropriate level in your code. This might involve handling exceptions locally within a function or propagating them up to higher-level functions or the main program loop.\n",
        "\n",
        "8. Use Custom Exceptions When Appropriate: Define custom exception classes for specific error conditions in your code. This makes it easier to handle and differentiate between different types of errors and helps communicate the intent of the exception more clearly.\n",
        "\n",
        "9. Document Exception Handling: Document exception handling strategies and error conditions in your code. Clearly document which exceptions can be raised by functions or methods, as well as how they should be handled.\n",
        "\n",
        "10. Test Exception Handling: Write tests to verify that exception handling works as expected in different scenarios. Test both the expected behavior when an exception occurs and the behavior when no exception occurs.\n",
        "\n"
      ],
      "metadata": {
        "id": "cZFg9x8Jh0PK"
      }
    },
    {
      "cell_type": "code",
      "source": [],
      "metadata": {
        "id": "nDufcQ1tiKNH"
      },
      "execution_count": null,
      "outputs": []
    }
  ]
}