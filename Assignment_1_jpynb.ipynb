{
  "nbformat": 4,
  "nbformat_minor": 0,
  "metadata": {
    "colab": {
      "provenance": [],
      "include_colab_link": true
    },
    "kernelspec": {
      "name": "python3",
      "display_name": "Python 3"
    },
    "language_info": {
      "name": "python"
    }
  },
  "cells": [
    {
      "cell_type": "markdown",
      "metadata": {
        "id": "view-in-github",
        "colab_type": "text"
      },
      "source": [
        "<a href=\"https://colab.research.google.com/github/DIVYA14797/python-project/blob/main/Assignment_1_jpynb.ipynb\" target=\"_parent\"><img src=\"https://colab.research.google.com/assets/colab-badge.svg\" alt=\"Open In Colab\"/></a>"
      ]
    },
    {
      "cell_type": "code",
      "execution_count": null,
      "metadata": {
        "id": "mSDpTpQcVSQl"
      },
      "outputs": [],
      "source": []
    },
    {
      "cell_type": "markdown",
      "source": [
        "1. Create one variable containing following type of data :  \n",
        "\n",
        "(a) string  \n",
        "\n",
        " (b) list  \n",
        "\n",
        " (c) float\n",
        "\n",
        " (d) tuple\n",
        "\n"
      ],
      "metadata": {
        "id": "OO4KCO3IVTsf"
      }
    },
    {
      "cell_type": "code",
      "source": [
        "# (a) String\n",
        "my_string = \"Hello, World!\"\n",
        "\n",
        "# (b) List\n",
        "my_list = [1, 2, 3, 4, 5]\n",
        "\n",
        "# (c) Float\n",
        "my_float = 3.14\n",
        "\n",
        "# (d) Tuple\n",
        "my_tuple = (1, 2, 3, 4, 5)"
      ],
      "metadata": {
        "id": "YmJNM8UnVmIW"
      },
      "execution_count": null,
      "outputs": []
    },
    {
      "cell_type": "code",
      "source": [],
      "metadata": {
        "id": "0CE0HW-KVor3"
      },
      "execution_count": null,
      "outputs": []
    },
    {
      "cell_type": "markdown",
      "source": [
        "2. Given are some following variables containing data :  \n",
        "\n",
        "(a) var1=''\n",
        "\n",
        " (b) var2='[DS,ML,Python ]'  \n",
        "\n",
        " (c) var3=['DS','ML','Python']  \n",
        "\n",
        " (d) var4=1.        \n",
        "\n",
        "\n",
        " What will be the data type of the above given variable .\n",
        "\n"
      ],
      "metadata": {
        "id": "jP58C7udVpEm"
      }
    },
    {
      "cell_type": "markdown",
      "source": [
        "(a) var1='':\n",
        "\n",
        "* This variable contains an empty string.\n",
        "* Data type: string ('str').\n",
        "\n",
        "(b) var2='[DS,ML,Python ]':\n",
        "\n",
        "* This variable contains a string with comma-separated values inside square brackets.\n",
        "* Data type: string ('str').\n",
        "\n",
        "(c)var3= ['DS','ML','Python']:\n",
        "\n",
        "* This is a list containing strings.\n",
        "* Data type: list ('list').\n",
        "\n",
        "(d) var4=1.:\n",
        "\n",
        "* This variable contains a floating-point number.\n",
        "* Data type: float ('float')"
      ],
      "metadata": {
        "id": "xnwBlRNeWQi7"
      }
    },
    {
      "cell_type": "code",
      "source": [],
      "metadata": {
        "id": "k8rhv6nOW-Ga"
      },
      "execution_count": null,
      "outputs": []
    },
    {
      "cell_type": "markdown",
      "source": [
        "3. Expalin the use of the following operators using an example :  \n",
        "\n",
        "(a) /    \n",
        " (b) %  \n",
        " (c) //  \n",
        " (d) **"
      ],
      "metadata": {
        "id": "o3S0dFNIXBsn"
      }
    },
    {
      "cell_type": "markdown",
      "source": [
        "(a) '/' (Division Operator):\n",
        "\n",
        "* This operator performs division between two numbers.\n",
        "* Example:"
      ],
      "metadata": {
        "id": "yaxLNENSXTm4"
      }
    },
    {
      "cell_type": "code",
      "source": [
        "result = 10 / 3\n",
        "print(result)"
      ],
      "metadata": {
        "colab": {
          "base_uri": "https://localhost:8080/"
        },
        "id": "ZXUvwcRqXcLv",
        "outputId": "266a4333-1b84-4d98-a24e-eab1f050d52a"
      },
      "execution_count": null,
      "outputs": [
        {
          "output_type": "stream",
          "name": "stdout",
          "text": [
            "3.3333333333333335\n"
          ]
        }
      ]
    },
    {
      "cell_type": "markdown",
      "source": [
        "(b) '%' (Modulo Operator):\n",
        "\n",
        "* This operator returns the remainder of the division of the left operand by the right operand.\n",
        "* Example:"
      ],
      "metadata": {
        "id": "xfQ6WUCCXhqq"
      }
    },
    {
      "cell_type": "code",
      "source": [
        "remainder = 10 % 3\n",
        "print(remainder)"
      ],
      "metadata": {
        "colab": {
          "base_uri": "https://localhost:8080/"
        },
        "id": "BaU4MLlqXqMX",
        "outputId": "1cba93ff-9ee6-4523-cf2f-3fe715f1d471"
      },
      "execution_count": null,
      "outputs": [
        {
          "output_type": "stream",
          "name": "stdout",
          "text": [
            "1\n"
          ]
        }
      ]
    },
    {
      "cell_type": "markdown",
      "source": [
        "(c) '//' (Floor Division Operator):\n",
        "\n",
        "* This operator performs floor division, returning the integer part of the quotient.\n",
        "* Example:\n"
      ],
      "metadata": {
        "id": "fiJlLedOXuGS"
      }
    },
    {
      "cell_type": "code",
      "source": [
        "result = 10 // 3\n",
        "print(result)"
      ],
      "metadata": {
        "colab": {
          "base_uri": "https://localhost:8080/"
        },
        "id": "ycYj1NPkX2hI",
        "outputId": "32076193-eece-442e-fb90-d5554b5a45c9"
      },
      "execution_count": null,
      "outputs": [
        {
          "output_type": "stream",
          "name": "stdout",
          "text": [
            "3\n"
          ]
        }
      ]
    },
    {
      "cell_type": "markdown",
      "source": [
        "(d) '**' (Exponentiation Operator):\n",
        "\n",
        "* This operator raises the left operand to the power of the right operand.\n",
        "* Example:"
      ],
      "metadata": {
        "id": "4NF4ZD3ZX7J2"
      }
    },
    {
      "cell_type": "code",
      "source": [
        "result = 2 ** 3\n",
        "print(result)"
      ],
      "metadata": {
        "colab": {
          "base_uri": "https://localhost:8080/"
        },
        "id": "zFT5f6GDYG1W",
        "outputId": "12088550-a05d-4f27-81e6-7722de68f4be"
      },
      "execution_count": null,
      "outputs": [
        {
          "output_type": "stream",
          "name": "stdout",
          "text": [
            "8\n"
          ]
        }
      ]
    },
    {
      "cell_type": "code",
      "source": [],
      "metadata": {
        "id": "uwnC5qv7YNL1"
      },
      "execution_count": null,
      "outputs": []
    },
    {
      "cell_type": "markdown",
      "source": [
        "4. Create a list of length 10 of your choice containing multiple types of data . Using for loop print the element and its data type ."
      ],
      "metadata": {
        "id": "T9Ohf2XPYNxq"
      }
    },
    {
      "cell_type": "code",
      "source": [
        "my_list = [1, 2.5, \"Hello\", True, [1, 2, 3], {'a': 1, 'b': 2}, (4, 5), None, False, 3.14]\n",
        "\n",
        "for item in my_list:\n",
        "    print(\"Element:\", item)\n",
        "    print(\"Data Type:\", type(item))\n",
        "    print()"
      ],
      "metadata": {
        "colab": {
          "base_uri": "https://localhost:8080/"
        },
        "id": "k4SZr5OjYZee",
        "outputId": "274370b4-4acb-47a2-9154-6e23b3bab4e1"
      },
      "execution_count": null,
      "outputs": [
        {
          "output_type": "stream",
          "name": "stdout",
          "text": [
            "Element: 1\n",
            "Data Type: <class 'int'>\n",
            "\n",
            "Element: 2.5\n",
            "Data Type: <class 'float'>\n",
            "\n",
            "Element: Hello\n",
            "Data Type: <class 'str'>\n",
            "\n",
            "Element: True\n",
            "Data Type: <class 'bool'>\n",
            "\n",
            "Element: [1, 2, 3]\n",
            "Data Type: <class 'list'>\n",
            "\n",
            "Element: {'a': 1, 'b': 2}\n",
            "Data Type: <class 'dict'>\n",
            "\n",
            "Element: (4, 5)\n",
            "Data Type: <class 'tuple'>\n",
            "\n",
            "Element: None\n",
            "Data Type: <class 'NoneType'>\n",
            "\n",
            "Element: False\n",
            "Data Type: <class 'bool'>\n",
            "\n",
            "Element: 3.14\n",
            "Data Type: <class 'float'>\n",
            "\n"
          ]
        }
      ]
    },
    {
      "cell_type": "code",
      "source": [],
      "metadata": {
        "id": "ZtJLe-9cYlQF"
      },
      "execution_count": null,
      "outputs": []
    },
    {
      "cell_type": "markdown",
      "source": [
        "5. Using a while loop , verify if the number A is purely divisible by number B and if so then how many times it can be divisible ."
      ],
      "metadata": {
        "id": "A-Jek3HaYltS"
      }
    },
    {
      "cell_type": "code",
      "source": [
        "A = int(input(\"Enter the number A: \"))\n",
        "B = int(input(\"Enter the number B: \"))\n",
        "\n",
        "# Initializing count of divisions\n",
        "count = 0\n",
        "\n",
        "# Checking if A is divisible by B\n",
        "while A % B == 0:\n",
        "    # If divisible, increment count and update A\n",
        "    count += 1\n",
        "    A /= B\n",
        "\n",
        "# Printing the result\n",
        "if count > 0:\n",
        "    print(f\"{A} is divisible by {B} {count} times.\")\n",
        "else:\n",
        "    print(f\"{A} is not divisible by {B}.\")"
      ],
      "metadata": {
        "colab": {
          "base_uri": "https://localhost:8080/"
        },
        "id": "GSF3z3lZYzQQ",
        "outputId": "aa84083b-19f1-4dab-a894-fed66bb61ecf"
      },
      "execution_count": null,
      "outputs": [
        {
          "output_type": "stream",
          "name": "stdout",
          "text": [
            "Enter the number A: 85\n",
            "Enter the number B: 5\n",
            "17.0 is divisible by 5 1 times.\n"
          ]
        }
      ]
    },
    {
      "cell_type": "code",
      "source": [],
      "metadata": {
        "id": "tFWYasR2ZI2b"
      },
      "execution_count": null,
      "outputs": []
    },
    {
      "cell_type": "markdown",
      "source": [
        "6. Create a list containing 25 int type data . Using for loop and if-else condition print if the element is divisible by 3 or not ."
      ],
      "metadata": {
        "id": "5QnAhBEUZPmL"
      }
    },
    {
      "cell_type": "code",
      "source": [
        "# Create a list of 25 integers\n",
        "my_list = [i for i in range(1, 26)]\n",
        "\n",
        "# Iterate through each element in the list\n",
        "for num in my_list:\n",
        "    # Check if the element is divisible by 3\n",
        "    if num % 3 == 0:\n",
        "        print(f\"{num} is divisible by 3.\")\n",
        "    else:\n",
        "        print(f\"{num} is not divisible by 3.\")"
      ],
      "metadata": {
        "colab": {
          "base_uri": "https://localhost:8080/"
        },
        "id": "ubhocHGfZXHr",
        "outputId": "84a85f10-52c3-4464-d970-2022873240f3"
      },
      "execution_count": null,
      "outputs": [
        {
          "output_type": "stream",
          "name": "stdout",
          "text": [
            "1 is not divisible by 3.\n",
            "2 is not divisible by 3.\n",
            "3 is divisible by 3.\n",
            "4 is not divisible by 3.\n",
            "5 is not divisible by 3.\n",
            "6 is divisible by 3.\n",
            "7 is not divisible by 3.\n",
            "8 is not divisible by 3.\n",
            "9 is divisible by 3.\n",
            "10 is not divisible by 3.\n",
            "11 is not divisible by 3.\n",
            "12 is divisible by 3.\n",
            "13 is not divisible by 3.\n",
            "14 is not divisible by 3.\n",
            "15 is divisible by 3.\n",
            "16 is not divisible by 3.\n",
            "17 is not divisible by 3.\n",
            "18 is divisible by 3.\n",
            "19 is not divisible by 3.\n",
            "20 is not divisible by 3.\n",
            "21 is divisible by 3.\n",
            "22 is not divisible by 3.\n",
            "23 is not divisible by 3.\n",
            "24 is divisible by 3.\n",
            "25 is not divisible by 3.\n"
          ]
        }
      ]
    },
    {
      "cell_type": "code",
      "source": [],
      "metadata": {
        "id": "BU6ZkRtjZe2o"
      },
      "execution_count": null,
      "outputs": []
    },
    {
      "cell_type": "markdown",
      "source": [
        "7. What do you understand about mutable and immutable data types ? Give examples for both showing this property ."
      ],
      "metadata": {
        "id": "Is-ctyzUZfTB"
      }
    },
    {
      "cell_type": "markdown",
      "source": [
        "1. Immutable data types:\n",
        "\n",
        "* Immutable objects cannot be modified once they are created. Any operation that attempts to modify an immutable object will result in the creation of a new object.\n",
        "* Examples of immutable data types in Python include integers, floats, strings, tuples, and frozensets.\n",
        "* Example:"
      ],
      "metadata": {
        "id": "2SnYT8DDZsy5"
      }
    },
    {
      "cell_type": "code",
      "source": [
        "# Immutable data types\n",
        "a = 5  # Integer\n",
        "b = \"hello\"  # String\n",
        "c = (1, 2, 3)  # Tuple\n",
        "# Attempt to modify an immutable object\n",
        "a += 1\n",
        "b += \" world\"\n",
        "c += (4,)\n"
      ],
      "metadata": {
        "id": "j_J83RYQZzbw"
      },
      "execution_count": null,
      "outputs": []
    },
    {
      "cell_type": "code",
      "source": [
        "print(a)\n",
        "print(b)\n",
        "print(c)\n"
      ],
      "metadata": {
        "colab": {
          "base_uri": "https://localhost:8080/"
        },
        "id": "ows4mk8uaVx5",
        "outputId": "fb69c165-e25a-4b9c-b7a3-ca0ff3bd7f3e"
      },
      "execution_count": null,
      "outputs": [
        {
          "output_type": "stream",
          "name": "stdout",
          "text": [
            "6\n",
            "hello world\n",
            "(1, 2, 3, 4)\n"
          ]
        }
      ]
    },
    {
      "cell_type": "markdown",
      "source": [
        "2. Mutable data types:\n",
        "\n",
        "* Mutable objects can be modified after they are created. Operations that modify mutable objects directly change the object's value without creating a new object.\n",
        "* Examples of mutable data types in Python include lists, dictionaries, sets, and user-defined objects.\n",
        "* Example:"
      ],
      "metadata": {
        "id": "MAUeCrLtasD8"
      }
    },
    {
      "cell_type": "code",
      "source": [
        "# Mutable data types\n",
        "list_a = [1, 2, 3]  # List\n",
        "dict_b = {'a': 1, 'b': 2}  # Dictionary\n",
        "set_c = {1, 2, 3}  # Set\n",
        "\n",
        "# Modify mutable objects directly\n",
        "list_a.append(4)\n",
        "dict_b['c'] = 3\n",
        "set_c.add(4)"
      ],
      "metadata": {
        "id": "HpfIbCtTa3Mo"
      },
      "execution_count": null,
      "outputs": []
    },
    {
      "cell_type": "code",
      "source": [
        "print(list_a)\n",
        "print(dict_b)\n",
        "print(set_c)"
      ],
      "metadata": {
        "colab": {
          "base_uri": "https://localhost:8080/"
        },
        "id": "2WG3Ra3JbLB5",
        "outputId": "e8e50af3-b7e0-4e19-8e0d-60b3c0be2eda"
      },
      "execution_count": null,
      "outputs": [
        {
          "output_type": "stream",
          "name": "stdout",
          "text": [
            "[1, 2, 3, 4]\n",
            "{'a': 1, 'b': 2, 'c': 3}\n",
            "{1, 2, 3, 4}\n"
          ]
        }
      ]
    }
  ]
}